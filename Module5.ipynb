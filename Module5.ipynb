{
 "cells": [
  {
   "cell_type": "code",
   "execution_count": null,
   "metadata": {},
   "outputs": [],
<<<<<<< HEAD
   "source": []
  }
 ],
 "metadata": {
  "language_info": {
   "name": "python"
=======
   "source": [
    "# Python code on sklearn linear regression example  \n",
    "  \n",
    "# Importing required libraries  \n",
    "import numpy as np  \n",
    "import matplotlib.pyplot as plt  \n",
    "from sklearn.datasets import load_diabetes  \n",
    "from sklearn.linear_model import LinearRegression  \n",
    "from sklearn.model_selection import train_test_split  \n",
    "from sklearn.metrics import mean_squared_error, r2_score  \n",
    "  \n",
    "# Loading the sklearn diabetes dataset  \n",
    "X, Y = load_diabetes(return_X_y=True)  \n",
    "  \n",
    "# Taking only one feature to perform simple linear regression  \n",
    "X = X[:,8].reshape(-1,1)  \n",
    "  \n",
    "# Splitting the dependent and independent features of the dataset into training and testing dataset  \n",
    "X_train, X_test, Y_train, Y_test = train_test_split( X, Y, test_size = 0.3, random_state = 10 )  \n",
    "  \n",
    "# Creating an instance for the linear regression model of sklearn  \n",
    "lr = linear_model.LinearRegression()  \n",
    "  \n",
    "# Training the model by passing the dependent and independent features of the training dataset  \n",
    "lr.fit( X_train, Y_train )  \n",
    "  \n",
    "# Creating an array of predictions made by the model for the unseen or test dataset  \n",
    "Y_pred = lr.predict( X_test )  \n",
    "  \n",
    "# The value of the coefficients for the independent feature through the multiple regression model  \n",
    "print(\"Value of the oefficients: \\n\", lr.coef_)  \n",
    "  \n",
    "# The value of the mean squared error  \n",
    "print(f\"Mean square error: {mean_squared_error( Y_test, Y_pred)}\")  \n",
    "  \n",
    "# The value of the coefficient of determination, i.e., R-square score of the model  \n",
    "print(f\"Coefficient of determination: {r2_score( Y_test, Y_pred )}\")  \n",
    "  \n",
    "# Plotting the output  \n",
    "plt.scatter(X_test, Y_test, color = \"black\", label = \"original data\")  \n",
    "plt.plot(X_test, Y_pred, color = \"blue\", linewidth=3, label = \"regression line\")  \n",
    "plt.xlabel(\"Independent Feature\")  \n",
    "plt.ylabel(\"Target Values\")  \n",
    "plt.title(\"Simple Linear Regression\")  \n",
    "plt.show()"
   ]
  },
  {
   "cell_type": "markdown",
   "metadata": {},
   "source": [
    "Linear Regression"
   ]
  },
  {
   "cell_type": "code",
   "execution_count": null,
   "metadata": {},
   "outputs": [
    {
     "ename": "",
     "evalue": "",
     "output_type": "error",
     "traceback": [
      "\u001b[1;31mFailed to start the Kernel. \n",
      "\u001b[1;31mUnable to start Kernel 'Python 3.10.9' due to a timeout waiting for the ports to get used. \n",
      "\u001b[1;31mView Jupyter <a href='command:jupyter.viewOutput'>log</a> for further details."
     ]
    }
   ],
   "source": [
    "# Import the packages and classes needed in this example:\n",
    "import numpy as np\n",
    "from sklearn.linear_model import LinearRegression\n",
    "\n",
    "x = np.array([6, 16, 26, 36, 46, 56]).reshape((-1, 1))\n",
    "y = np.array([4, 23, 10, 12, 22, 35])\n",
    "\n",
    "model = LinearRegression().fit(x, y) \n",
    "\n",
    "r_sq = model.score(x, y)\n",
    "print('coefficient of determination:', r_sq)\n",
    "print('intercept:', model.intercept_)\n",
    "print('slope:', model.coef_) \n",
    "\n",
    "y_pred = model.predict(x)\n",
    "print('Predicted response:', y_pred, sep='\\n')\n"
   ]
  }
 ],
 "metadata": {
  "kernelspec": {
   "display_name": "base",
   "language": "python",
   "name": "python3"
  },
  "language_info": {
   "codemirror_mode": {
    "name": "ipython",
    "version": 3
   },
   "file_extension": ".py",
   "mimetype": "text/x-python",
   "name": "python",
   "nbconvert_exporter": "python",
   "pygments_lexer": "ipython3",
   "version": "3.10.9"
>>>>>>> 1e90f2281e7775daceaf747fc8608a7d147b53e4
  },
  "orig_nbformat": 4
 },
 "nbformat": 4,
 "nbformat_minor": 2
}
