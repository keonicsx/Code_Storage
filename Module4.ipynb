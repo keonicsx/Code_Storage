{
 "cells": [
  {
   "attachments": {},
   "cell_type": "markdown",
   "metadata": {},
   "source": [
    "Numpy Practice"
   ]
  },
  {
   "cell_type": "code",
   "execution_count": null,
   "metadata": {},
   "outputs": [],
   "source": [
    "import numpy as np\n",
    "\n",
    "print(np.__version__)"
   ]
  },
  {
   "cell_type": "code",
   "execution_count": null,
   "metadata": {},
   "outputs": [],
   "source": [
    "arr=np.array(10)\n",
    "arr"
   ]
  },
  {
   "cell_type": "code",
   "execution_count": null,
   "metadata": {},
   "outputs": [],
   "source": [
    "arr=np.array([10,11])\n",
    "print (arr)"
   ]
  },
  {
   "cell_type": "code",
   "execution_count": null,
   "metadata": {},
   "outputs": [],
   "source": [
    "arr=np.array([[10,11],[12,13]])\n",
    "print(arr)"
   ]
  },
  {
   "attachments": {},
   "cell_type": "markdown",
   "metadata": {},
   "source": [
    "Arrays in numpy with all dimensions"
   ]
  },
  {
   "cell_type": "code",
   "execution_count": null,
   "metadata": {},
   "outputs": [],
   "source": [
    "import numpy as np\n",
    "\n",
    "print(np.array(10) )# 0D\n",
    "\n",
    "print(np.array([1,2])) # 1D\n",
    "\n",
    "print(np.array([[1,2],[3,4]])) # 2D\n",
    "\n",
    "print(np.array([  [  [1,2],[3,4]  ]  ,  [   [5,6],[7,8]  ]  ])) # 3D\n"
   ]
  },
  {
   "attachments": {},
   "cell_type": "markdown",
   "metadata": {},
   "source": [
    "ndmin=5"
   ]
  },
  {
   "cell_type": "code",
   "execution_count": null,
   "metadata": {},
   "outputs": [],
   "source": [
    "arr = np.array([[[1,2,3,4,5]],[[6,7,8,9,10]],[[6,7,8,9,10]]])\n",
    "print(arr)\n",
    "# print(arr.ndim)\n",
    "print(arr.shape)"
   ]
  },
  {
   "attachments": {},
   "cell_type": "markdown",
   "metadata": {},
   "source": [
    "filling arrays with auto elements"
   ]
  },
  {
   "cell_type": "code",
   "execution_count": null,
   "metadata": {},
   "outputs": [],
   "source": [
    "import numpy as np\n",
    "\n",
    "arr = np.zeros((3,1,5))\n",
    "print(arr)"
   ]
  },
  {
   "cell_type": "code",
   "execution_count": null,
   "metadata": {},
   "outputs": [],
   "source": [
    "arr=np.ones((4,8,3))\n",
    "print(arr)"
   ]
  },
  {
   "cell_type": "code",
   "execution_count": null,
   "metadata": {},
   "outputs": [],
   "source": [
    "arr= np.arange(10,21,3)\n",
    "print(arr)"
   ]
  },
  {
   "attachments": {},
   "cell_type": "markdown",
   "metadata": {},
   "source": [
    "Sorting Arrays"
   ]
  },
  {
   "cell_type": "code",
   "execution_count": null,
   "metadata": {},
   "outputs": [],
   "source": [
    "arr= np.array([2,1,5,6,3,8,7,4])\n",
    "\n",
    "sorted_array= np.sort(arr)\n",
    "print(sorted_array)\n"
   ]
  },
  {
   "attachments": {},
   "cell_type": "markdown",
   "metadata": {},
   "source": [
    "Sort alphabets or names"
   ]
  },
  {
   "cell_type": "code",
   "execution_count": null,
   "metadata": {},
   "outputs": [],
   "source": [
    "arr= np.array([\"Apple\",\"Zebra\",\"Tea\"])\n",
    "\n",
    "sorted_array= np.sort(arr)\n",
    "print(sorted_array)\n"
   ]
  },
  {
   "attachments": {},
   "cell_type": "markdown",
   "metadata": {},
   "source": [
    "Sorting 2d array"
   ]
  },
  {
   "cell_type": "code",
   "execution_count": null,
   "metadata": {},
   "outputs": [],
   "source": [
    "arr=np.array([[6,2,3],[9,5,6]])\n",
    "print( np.sort(arr)  )"
   ]
  },
  {
   "cell_type": "code",
   "execution_count": null,
   "metadata": {},
   "outputs": [],
   "source": [
    "arr= np.array([50,20,300,40,-5,65,70,85])\n",
    "\n",
    "print(arr[0:2])\n"
   ]
  },
  {
   "cell_type": "code",
   "execution_count": null,
   "metadata": {},
   "outputs": [],
   "source": [
    "mat=np.array([[10,20,21,22,25],[30,40,41,42,43]])\n",
    "print(mat)\n",
    "print(mat[1,2])"
   ]
  },
  {
   "cell_type": "code",
   "execution_count": null,
   "metadata": {},
   "outputs": [],
   "source": [
    "mat=np.array([  [[21,22,25],[41,42,43]]  , [[50,51,52],[60,61,62]]  ])\n",
    "print(mat)\n",
    "print(\"Value:\",mat[1,1,2])\n"
   ]
  },
  {
   "cell_type": "code",
   "execution_count": null,
   "metadata": {},
   "outputs": [],
   "source": [
    "arr=np.array([1,2,3,4,5,6])\n",
    "\n",
    "print(arr[1:5:1])"
   ]
  },
  {
   "cell_type": "code",
   "execution_count": null,
   "metadata": {},
   "outputs": [],
   "source": [
    "arr=np.array([[1,2,3,4],[5,6,7,8]])\n",
    "\n",
    "print(arr[1,1:4])"
   ]
  },
  {
   "cell_type": "code",
   "execution_count": null,
   "metadata": {},
   "outputs": [],
   "source": [
    "arr=np.array([2,50,40,60,70,40])\n",
    "\n",
    "val=np.where(arr==40)\n",
    "\n",
    "print(val)\n"
   ]
  },
  {
   "cell_type": "code",
   "execution_count": null,
   "metadata": {},
   "outputs": [],
   "source": [
    "arr=np.array([1,2,3,4,5])\n",
    "\n",
    "val=np.where(arr%3==0)\n",
    "\n",
    "print(val)"
   ]
  },
  {
   "cell_type": "code",
   "execution_count": null,
   "metadata": {},
   "outputs": [],
   "source": [
    "arr=np.array([10,20,50,60])\n",
    "\n",
    "val=np.searchsorted(arr,[-10,40,55])\n",
    "val"
   ]
  },
  {
   "attachments": {},
   "cell_type": "markdown",
   "metadata": {},
   "source": [
    "reshape array   "
   ]
  },
  {
   "cell_type": "code",
   "execution_count": null,
   "metadata": {},
   "outputs": [],
   "source": [
    "arr=np.array([1,2,3,4,5,6,7,8,9,10,11,12])\n",
    "rs=arr.reshape(4,3)\n",
    "rs"
   ]
  },
  {
   "cell_type": "code",
   "execution_count": null,
   "metadata": {},
   "outputs": [],
   "source": [
    "arr=np.array([[1,2,],[3,4]])\n",
    "print(arr.reshape(-1))"
   ]
  },
  {
   "attachments": {},
   "cell_type": "markdown",
   "metadata": {},
   "source": [
    "numpy filter"
   ]
  },
  {
   "cell_type": "code",
   "execution_count": null,
   "metadata": {},
   "outputs": [],
   "source": [
    "import numpy as np\n",
    "arr = np.array([10,30,20,60,70])\n",
    "b= [True,False,False,False,True]\n",
    "newarr = arr[b]\n",
    "print(newarr)"
   ]
  },
  {
   "cell_type": "code",
   "execution_count": null,
   "metadata": {},
   "outputs": [],
   "source": [
    "arr= np.array([0,1,2,3,5,8,13])\n",
    "result = filter(lambda input:input%2!=0,arr)\n",
    "print(list(result))"
   ]
  },
  {
   "cell_type": "code",
   "execution_count": null,
   "metadata": {},
   "outputs": [],
   "source": [
    "arr= np.array([0,1,2,3,5,8,13])\n",
    "result = filter(lambda input:input%2==0,arr)\n",
    "print(list(result))"
   ]
  },
  {
   "cell_type": "code",
   "execution_count": null,
   "metadata": {},
   "outputs": [],
   "source": [
    "a=np.arange(6).reshape(2,3)\n",
    "print(\"A:\",a)\n",
    "\n",
    "b=np.arange(5,11).reshape(2,3)\n",
    "print(\"B:\",b)\n",
    "\n",
    "\n",
    "c=np.concatenate((a,b))\n",
    "print(\"Concatenated:\",c)\n"
   ]
  },
  {
   "cell_type": "code",
   "execution_count": null,
   "metadata": {},
   "outputs": [],
   "source": [
    "a=np.arange(6).reshape(2,3)\n",
    "b=np.arange(6,12).reshape(2,3)\n",
    "\n",
    "mat=np.concatenate((a,b),axis=1)\n",
    "print(mat)\n"
   ]
  },
  {
   "cell_type": "code",
   "execution_count": null,
   "metadata": {},
   "outputs": [],
   "source": [
    "stack_mat = np.stack((a,b),axis=2)\n",
    "stack_mat"
   ]
  },
  {
   "cell_type": "code",
   "execution_count": null,
   "metadata": {},
   "outputs": [],
   "source": [
    "np.vstack((a,b))"
   ]
  },
  {
   "cell_type": "code",
   "execution_count": null,
   "metadata": {},
   "outputs": [],
   "source": [
    "np.hstack((a,b))"
   ]
  },
  {
   "cell_type": "code",
   "execution_count": null,
   "metadata": {},
   "outputs": [],
   "source": [
    "mat= np.dstack((a,b))\n",
    "print(mat[1,1,1])\n",
    "print(mat)"
   ]
  },
  {
   "attachments": {},
   "cell_type": "markdown",
   "metadata": {},
   "source": [
    "PANDAS"
   ]
  },
  {
   "cell_type": "code",
   "execution_count": null,
   "metadata": {},
   "outputs": [],
   "source": [
    "import pandas as pd\n",
    "import numpy as np\n",
    "a=np.array([10,20,30,40,50,60,70,80,90,100])\n",
    "s=pd.Series(a)\n",
    "s"
   ]
  },
  {
   "cell_type": "code",
   "execution_count": null,
   "metadata": {},
   "outputs": [],
   "source": [
    "s=pd.Series(a,index=['a', 'b', 'c', 'd', 'e', 'f', 'g', 'h', 'i', 'j'])\n",
    "s['i']"
   ]
  },
  {
   "cell_type": "code",
   "execution_count": null,
   "metadata": {},
   "outputs": [],
   "source": [
    "l1=[1,2,3,4]\n",
    "\n",
    "a=pd.Series(l1)\n",
    "a\n"
   ]
  },
  {
   "cell_type": "code",
   "execution_count": null,
   "metadata": {},
   "outputs": [],
   "source": [
    "import pandas as pd\n",
    "\n",
    "list1=[10,20,30,40,[50,60]]\n",
    "df = pd.DataFrame(data=list1)\n",
    "print(df)\n",
    "def healthstatus(bmi):\n",
    "    if (bmi < 18.5):\n",
    "        print(\"underweight\")\n",
    "  \n",
    "    elif (bmi >= 18.5 and bmi < 24.9):\n",
    "        print(\"Healthy\")\n",
    "  \n",
    "    elif (bmi >= 24.9 and bmi < 30):\n",
    "        print( \"overweight\")\n",
    "  \n",
    "    elif (bmi >= 30):\n",
    "        print(\"Suffering from Obesity\")\n",
    "  "
   ]
  },
  {
   "cell_type": "code",
   "execution_count": null,
   "metadata": {},
   "outputs": [],
   "source": [
    "import pandas as pd\n",
    "\n",
    "bmi={ \"age\":[22,23,21,24,23],\"gender\":[\"M\",\"F\",\"M\",\"F\",\"M\"],\"height\":[161,164,166,170,169],\"weight\":[65,66,68,71,74] }\n",
    "\n",
    "df=pd.DataFrame(bmi)\n",
    "# print(df)\n",
    "def healthstatus(bmi):\n",
    "    status=\"\"\n",
    "    if (bmi < 18.5):\n",
    "        print(\"underweight\")\n",
    "        status=\"UnderWeight\"\n",
    "        return status\n",
    "  \n",
    "    elif (bmi >= 18.5 and bmi < 24.9):\n",
    "        print(\"Healthy\")\n",
    "        status=\"Healthy\"\n",
    "        return status\n",
    "  \n",
    "  \n",
    "    elif (bmi >= 24.9 and bmi < 30):\n",
    "        print( \"overweight\")\n",
    "        status=\"overweight\"\n",
    "        return status\n",
    "  \n",
    "    elif (bmi >= 30):\n",
    "        print(\"Suffering from Obesity\")\n",
    "        status=\"Suffering from Obesity\"\n",
    "        return status\n",
    "  \n",
    "bmivalues=[]\n",
    "healthstatuses=[]\n",
    "for i in range(1):\n",
    "    ht=bmi[\"height\"]\n",
    "    wt=bmi[\"weight\"]\n",
    "    \n",
    "    for j in range(len(ht)):\n",
    "        # print(ht[j])\n",
    "        # print(wt[j])\n",
    "        ans=wt[j]/(ht[j]/100)**2\n",
    "        print(ans)\n",
    "        bmivalues.append(ans)\n",
    "        bmistate=healthstatus(ans)\n",
    "        healthstatuses.append(bmistate)\n",
    "\n",
    "df[\"BMI Values\"]=bmivalues\n",
    "df[\"Your Health Status\"]=healthstatuses\n",
    "df"
   ]
  },
  {
   "cell_type": "code",
   "execution_count": null,
   "metadata": {},
   "outputs": [],
   "source": [
    "import pandas as pd\n",
    "\n",
    "bmi={ \"age\":[22,23,21,24,23],\"gender\":[\"M\",\"F\",\"M\",\"F\",\"M\"],\"height\":[161,164,166,170,169],\"weight\":[65,66,68,71,74] }\n",
    "\n",
    "df=pd.DataFrame(bmi)\n",
    "for i in range(5):\n",
    "    a=df.loc[1]\n",
    "    print(a)\n"
   ]
  },
  {
   "cell_type": "code",
   "execution_count": 3,
   "metadata": {},
   "outputs": [
    {
     "name": "stdout",
     "output_type": "stream",
     "text": [
      "<bound method DataFrame.to_string of                                                    students\n",
      "student1  {'name': 'ABC', 'rollnumber': 1, 'class': 1, '...\n",
      "student2       {'name': 'DEF', 'rollnumber': 2, 'class': 2}\n",
      "student3       {'name': 'EFG', 'rollnumber': 3, 'class': 3}>\n"
     ]
    }
   ],
   "source": [
    "import pandas as pd\n",
    "\n",
    "df=pd.read_json(\"data.json\")\n",
    "print(df.to_string)\n"
   ]
  }
 ],
 "metadata": {
  "kernelspec": {
   "display_name": "base",
   "language": "python",
   "name": "python3"
  },
  "language_info": {
   "codemirror_mode": {
    "name": "ipython",
    "version": 3
   },
   "file_extension": ".py",
   "mimetype": "text/x-python",
   "name": "python",
   "nbconvert_exporter": "python",
   "pygments_lexer": "ipython3",
   "version": "3.11.2"
  },
  "orig_nbformat": 4
 },
 "nbformat": 4,
 "nbformat_minor": 2
}
