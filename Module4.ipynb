{
 "cells": [
  {
   "attachments": {},
   "cell_type": "markdown",
   "metadata": {},
   "source": [
    "Numpy Practice"
   ]
  },
  {
   "cell_type": "code",
   "execution_count": 2,
   "metadata": {},
   "outputs": [
    {
     "name": "stdout",
     "output_type": "stream",
     "text": [
      "1.24.2\n"
     ]
    }
   ],
   "source": [
    "import numpy as np\n",
    "\n",
    "print(np.__version__)"
   ]
  },
  {
   "cell_type": "code",
   "execution_count": 3,
   "metadata": {},
   "outputs": [
    {
     "data": {
      "text/plain": [
       "array(10)"
      ]
     },
     "execution_count": 3,
     "metadata": {},
     "output_type": "execute_result"
    }
   ],
   "source": [
    "arr=np.array(10)\n",
    "arr"
   ]
  },
  {
   "cell_type": "code",
   "execution_count": 4,
   "metadata": {},
   "outputs": [
    {
     "name": "stdout",
     "output_type": "stream",
     "text": [
      "[10 11]\n"
     ]
    }
   ],
   "source": [
    "arr=np.array([10,11])\n",
    "print (arr)"
   ]
  },
  {
   "cell_type": "code",
   "execution_count": 5,
   "metadata": {},
   "outputs": [
    {
     "name": "stdout",
     "output_type": "stream",
     "text": [
      "[[10 11]\n",
      " [12 13]]\n"
     ]
    }
   ],
   "source": [
    "arr=np.array([[10,11],[12,13]])\n",
    "print(arr)"
   ]
  },
  {
   "attachments": {},
   "cell_type": "markdown",
   "metadata": {},
   "source": [
    "Arrays in numpy with all dimensions"
   ]
  },
  {
   "cell_type": "code",
   "execution_count": 6,
   "metadata": {},
   "outputs": [
    {
     "name": "stdout",
     "output_type": "stream",
     "text": [
      "10\n",
      "[1 2]\n",
      "[[1 2]\n",
      " [3 4]]\n",
      "[[[1 2]\n",
      "  [3 4]]\n",
      "\n",
      " [[5 6]\n",
      "  [7 8]]]\n"
     ]
    }
   ],
   "source": [
    "import numpy as np\n",
    "\n",
    "print(np.array(10) )# 0D\n",
    "\n",
    "print(np.array([1,2])) # 1D\n",
    "\n",
    "print(np.array([[1,2],[3,4]])) # 2D\n",
    "\n",
    "print(np.array([  [  [1,2],[3,4]  ]  ,  [   [5,6],[7,8]  ]  ])) # 3D\n"
   ]
  },
  {
   "attachments": {},
   "cell_type": "markdown",
   "metadata": {},
   "source": [
    "ndmin=5"
   ]
  },
  {
   "cell_type": "code",
   "execution_count": 7,
   "metadata": {},
   "outputs": [
    {
     "name": "stdout",
     "output_type": "stream",
     "text": [
      "[[[ 1  2  3  4  5]]\n",
      "\n",
      " [[ 6  7  8  9 10]]\n",
      "\n",
      " [[ 6  7  8  9 10]]]\n",
      "(3, 1, 5)\n"
     ]
    }
   ],
   "source": [
    "arr = np.array([[[1,2,3,4,5]],[[6,7,8,9,10]],[[6,7,8,9,10]]])\n",
    "print(arr)\n",
    "# print(arr.ndim)\n",
    "print(arr.shape)"
   ]
  },
  {
   "attachments": {},
   "cell_type": "markdown",
   "metadata": {},
   "source": [
    "filling arrays with auto elements"
   ]
  },
  {
   "cell_type": "code",
   "execution_count": 8,
   "metadata": {},
   "outputs": [
    {
     "name": "stdout",
     "output_type": "stream",
     "text": [
      "[[[0. 0. 0. 0. 0.]]\n",
      "\n",
      " [[0. 0. 0. 0. 0.]]\n",
      "\n",
      " [[0. 0. 0. 0. 0.]]]\n"
     ]
    }
   ],
   "source": [
    "import numpy as np\n",
    "\n",
    "arr = np.zeros((3,1,5))\n",
    "print(arr)"
   ]
  },
  {
   "cell_type": "code",
   "execution_count": 9,
   "metadata": {},
   "outputs": [
    {
     "name": "stdout",
     "output_type": "stream",
     "text": [
      "[[[1. 1. 1.]\n",
      "  [1. 1. 1.]\n",
      "  [1. 1. 1.]\n",
      "  [1. 1. 1.]\n",
      "  [1. 1. 1.]\n",
      "  [1. 1. 1.]\n",
      "  [1. 1. 1.]\n",
      "  [1. 1. 1.]]\n",
      "\n",
      " [[1. 1. 1.]\n",
      "  [1. 1. 1.]\n",
      "  [1. 1. 1.]\n",
      "  [1. 1. 1.]\n",
      "  [1. 1. 1.]\n",
      "  [1. 1. 1.]\n",
      "  [1. 1. 1.]\n",
      "  [1. 1. 1.]]\n",
      "\n",
      " [[1. 1. 1.]\n",
      "  [1. 1. 1.]\n",
      "  [1. 1. 1.]\n",
      "  [1. 1. 1.]\n",
      "  [1. 1. 1.]\n",
      "  [1. 1. 1.]\n",
      "  [1. 1. 1.]\n",
      "  [1. 1. 1.]]\n",
      "\n",
      " [[1. 1. 1.]\n",
      "  [1. 1. 1.]\n",
      "  [1. 1. 1.]\n",
      "  [1. 1. 1.]\n",
      "  [1. 1. 1.]\n",
      "  [1. 1. 1.]\n",
      "  [1. 1. 1.]\n",
      "  [1. 1. 1.]]]\n"
     ]
    }
   ],
   "source": [
    "arr=np.ones((4,8,3))\n",
    "print(arr)"
   ]
  },
  {
   "cell_type": "code",
   "execution_count": 10,
   "metadata": {},
   "outputs": [
    {
     "name": "stdout",
     "output_type": "stream",
     "text": [
      "[10 13 16 19]\n"
     ]
    }
   ],
   "source": [
    "arr= np.arange(10,21,3)\n",
    "print(arr)"
   ]
  },
  {
   "attachments": {},
   "cell_type": "markdown",
   "metadata": {},
   "source": [
    "Sorting Arrays"
   ]
  },
  {
   "cell_type": "code",
   "execution_count": 11,
   "metadata": {},
   "outputs": [
    {
     "name": "stdout",
     "output_type": "stream",
     "text": [
      "[1 2 3 4 5 6 7 8]\n"
     ]
    }
   ],
   "source": [
    "arr= np.array([2,1,5,6,3,8,7,4])\n",
    "\n",
    "sorted_array= np.sort(arr)\n",
    "print(sorted_array)\n"
   ]
  },
  {
   "attachments": {},
   "cell_type": "markdown",
   "metadata": {},
   "source": [
    "Sort alphabets or names"
   ]
  },
  {
   "cell_type": "code",
   "execution_count": 12,
   "metadata": {},
   "outputs": [
    {
     "name": "stdout",
     "output_type": "stream",
     "text": [
      "['Apple' 'Tea' 'Zebra']\n"
     ]
    }
   ],
   "source": [
    "arr= np.array([\"Apple\",\"Zebra\",\"Tea\"])\n",
    "\n",
    "sorted_array= np.sort(arr)\n",
    "print(sorted_array)\n"
   ]
  },
  {
   "attachments": {},
   "cell_type": "markdown",
   "metadata": {},
   "source": [
    "Sorting 2d array"
   ]
  },
  {
   "cell_type": "code",
   "execution_count": 13,
   "metadata": {},
   "outputs": [
    {
     "name": "stdout",
     "output_type": "stream",
     "text": [
      "[[2 3 6]\n",
      " [5 6 9]]\n"
     ]
    }
   ],
   "source": [
    "arr=np.array([[6,2,3],[9,5,6]])\n",
    "print( np.sort(arr)  )"
   ]
  },
  {
   "cell_type": "code",
   "execution_count": 14,
   "metadata": {},
   "outputs": [
    {
     "name": "stdout",
     "output_type": "stream",
     "text": [
      "[50 20]\n"
     ]
    }
   ],
   "source": [
    "arr= np.array([50,20,300,40,-5,65,70,85])\n",
    "\n",
    "print(arr[0:2])\n"
   ]
  },
  {
   "cell_type": "code",
   "execution_count": 15,
   "metadata": {},
   "outputs": [
    {
     "name": "stdout",
     "output_type": "stream",
     "text": [
      "[[10 20 21 22 25]\n",
      " [30 40 41 42 43]]\n",
      "41\n"
     ]
    }
   ],
   "source": [
    "mat=np.array([[10,20,21,22,25],[30,40,41,42,43]])\n",
    "print(mat)\n",
    "print(mat[1,2])"
   ]
  },
  {
   "cell_type": "code",
   "execution_count": 16,
   "metadata": {},
   "outputs": [
    {
     "name": "stdout",
     "output_type": "stream",
     "text": [
      "[[[21 22 25]\n",
      "  [41 42 43]]\n",
      "\n",
      " [[50 51 52]\n",
      "  [60 61 62]]]\n",
      "Value: 62\n"
     ]
    }
   ],
   "source": [
    "mat=np.array([  [[21,22,25],[41,42,43]]  , [[50,51,52],[60,61,62]]  ])\n",
    "print(mat)\n",
    "print(\"Value:\",mat[1,1,2])\n"
   ]
  },
  {
   "cell_type": "code",
   "execution_count": 17,
   "metadata": {},
   "outputs": [
    {
     "name": "stdout",
     "output_type": "stream",
     "text": [
      "[2 3 4 5]\n"
     ]
    }
   ],
   "source": [
    "arr=np.array([1,2,3,4,5,6])\n",
    "\n",
    "print(arr[1:5:1])"
   ]
  },
  {
   "cell_type": "code",
   "execution_count": 18,
   "metadata": {},
   "outputs": [
    {
     "name": "stdout",
     "output_type": "stream",
     "text": [
      "[6 7 8]\n"
     ]
    }
   ],
   "source": [
    "arr=np.array([[1,2,3,4],[5,6,7,8]])\n",
    "\n",
    "print(arr[1,1:4])"
   ]
  },
  {
   "cell_type": "code",
   "execution_count": 19,
   "metadata": {},
   "outputs": [
    {
     "name": "stdout",
     "output_type": "stream",
     "text": [
      "(array([2, 5], dtype=int64),)\n"
     ]
    }
   ],
   "source": [
    "arr=np.array([2,50,40,60,70,40])\n",
    "\n",
    "val=np.where(arr==40)\n",
    "\n",
    "print(val)\n"
   ]
  },
  {
   "cell_type": "code",
   "execution_count": 20,
   "metadata": {},
   "outputs": [
    {
     "name": "stdout",
     "output_type": "stream",
     "text": [
      "(array([2], dtype=int64),)\n"
     ]
    }
   ],
   "source": [
    "arr=np.array([1,2,3,4,5])\n",
    "\n",
    "val=np.where(arr%3==0)\n",
    "\n",
    "print(val)"
   ]
  },
  {
   "cell_type": "code",
   "execution_count": 21,
   "metadata": {},
   "outputs": [
    {
     "data": {
      "text/plain": [
       "array([0, 2, 3], dtype=int64)"
      ]
     },
     "execution_count": 21,
     "metadata": {},
     "output_type": "execute_result"
    }
   ],
   "source": [
    "arr=np.array([10,20,50,60])\n",
    "\n",
    "val=np.searchsorted(arr,[-10,40,55])\n",
    "val"
   ]
  },
  {
   "attachments": {},
   "cell_type": "markdown",
   "metadata": {},
   "source": [
    "reshape array   "
   ]
  },
  {
   "cell_type": "code",
   "execution_count": 22,
   "metadata": {},
   "outputs": [
    {
     "data": {
      "text/plain": [
       "array([[ 1,  2,  3],\n",
       "       [ 4,  5,  6],\n",
       "       [ 7,  8,  9],\n",
       "       [10, 11, 12]])"
      ]
     },
     "execution_count": 22,
     "metadata": {},
     "output_type": "execute_result"
    }
   ],
   "source": [
    "arr=np.array([1,2,3,4,5,6,7,8,9,10,11,12])\n",
    "rs=arr.reshape(4,3)\n",
    "rs"
   ]
  },
  {
   "cell_type": "code",
   "execution_count": 23,
   "metadata": {},
   "outputs": [
    {
     "name": "stdout",
     "output_type": "stream",
     "text": [
      "[1 2 3 4]\n"
     ]
    }
   ],
   "source": [
    "arr=np.array([[1,2,],[3,4]])\n",
    "print(arr.reshape(-1))"
   ]
  },
  {
   "attachments": {},
   "cell_type": "markdown",
   "metadata": {},
   "source": [
    "numpy filter"
   ]
  },
  {
   "cell_type": "code",
   "execution_count": 24,
   "metadata": {},
   "outputs": [
    {
     "name": "stdout",
     "output_type": "stream",
     "text": [
      "[10 70]\n"
     ]
    }
   ],
   "source": [
    "import numpy as np\n",
    "arr = np.array([10,30,20,60,70])\n",
    "b= [True,False,False,False,True]\n",
    "newarr = arr[b]\n",
    "print(newarr)"
   ]
  },
  {
   "cell_type": "code",
   "execution_count": 25,
   "metadata": {},
   "outputs": [
    {
     "name": "stdout",
     "output_type": "stream",
     "text": [
      "[1, 3, 5, 13]\n"
     ]
    }
   ],
   "source": [
    "arr= np.array([0,1,2,3,5,8,13])\n",
    "result = filter(lambda input:input%2!=0,arr)\n",
    "print(list(result))"
   ]
  },
  {
   "cell_type": "code",
   "execution_count": 26,
   "metadata": {},
   "outputs": [
    {
     "name": "stdout",
     "output_type": "stream",
     "text": [
      "[0, 2, 8]\n"
     ]
    }
   ],
   "source": [
    "arr= np.array([0,1,2,3,5,8,13])\n",
    "result = filter(lambda input:input%2==0,arr)\n",
    "print(list(result))"
   ]
  },
  {
   "cell_type": "code",
   "execution_count": 27,
   "metadata": {},
   "outputs": [
    {
     "name": "stdout",
     "output_type": "stream",
     "text": [
      "A: [[0 1 2]\n",
      " [3 4 5]]\n",
      "B: [[ 5  6  7]\n",
      " [ 8  9 10]]\n",
      "Concatenated: [[ 0  1  2]\n",
      " [ 3  4  5]\n",
      " [ 5  6  7]\n",
      " [ 8  9 10]]\n"
     ]
    }
   ],
   "source": [
    "a=np.arange(6).reshape(2,3)\n",
    "print(\"A:\",a)\n",
    "\n",
    "b=np.arange(5,11).reshape(2,3)\n",
    "print(\"B:\",b)\n",
    "\n",
    "\n",
    "c=np.concatenate((a,b))\n",
    "print(\"Concatenated:\",c)\n"
   ]
  },
  {
   "cell_type": "code",
   "execution_count": 28,
   "metadata": {},
   "outputs": [
    {
     "name": "stdout",
     "output_type": "stream",
     "text": [
      "[[ 0  1  2  6  7  8]\n",
      " [ 3  4  5  9 10 11]]\n"
     ]
    }
   ],
   "source": [
    "a=np.arange(6).reshape(2,3)\n",
    "b=np.arange(6,12).reshape(2,3)\n",
    "\n",
    "mat=np.concatenate((a,b),axis=1)\n",
    "print(mat)\n"
   ]
  },
  {
   "cell_type": "code",
   "execution_count": 29,
   "metadata": {},
   "outputs": [
    {
     "data": {
      "text/plain": [
       "array([[[ 0,  6],\n",
       "        [ 1,  7],\n",
       "        [ 2,  8]],\n",
       "\n",
       "       [[ 3,  9],\n",
       "        [ 4, 10],\n",
       "        [ 5, 11]]])"
      ]
     },
     "execution_count": 29,
     "metadata": {},
     "output_type": "execute_result"
    }
   ],
   "source": [
    "stack_mat = np.stack((a,b),axis=2)\n",
    "stack_mat"
   ]
  },
  {
   "cell_type": "code",
   "execution_count": 30,
   "metadata": {},
   "outputs": [
    {
     "data": {
      "text/plain": [
       "array([[ 0,  1,  2],\n",
       "       [ 3,  4,  5],\n",
       "       [ 6,  7,  8],\n",
       "       [ 9, 10, 11]])"
      ]
     },
     "execution_count": 30,
     "metadata": {},
     "output_type": "execute_result"
    }
   ],
   "source": [
    "np.vstack((a,b))"
   ]
  },
  {
   "cell_type": "code",
   "execution_count": 31,
   "metadata": {},
   "outputs": [
    {
     "data": {
      "text/plain": [
       "array([[ 0,  1,  2,  6,  7,  8],\n",
       "       [ 3,  4,  5,  9, 10, 11]])"
      ]
     },
     "execution_count": 31,
     "metadata": {},
     "output_type": "execute_result"
    }
   ],
   "source": [
    "np.hstack((a,b))"
   ]
  },
  {
   "cell_type": "code",
   "execution_count": 32,
   "metadata": {},
   "outputs": [
    {
     "name": "stdout",
     "output_type": "stream",
     "text": [
      "10\n",
      "[[[ 0  6]\n",
      "  [ 1  7]\n",
      "  [ 2  8]]\n",
      "\n",
      " [[ 3  9]\n",
      "  [ 4 10]\n",
      "  [ 5 11]]]\n"
     ]
    }
   ],
   "source": [
    "mat= np.dstack((a,b))\n",
    "print(mat[1,1,1])\n",
    "print(mat)"
   ]
  },
  {
   "attachments": {},
   "cell_type": "markdown",
   "metadata": {},
   "source": [
    "PANDAS"
   ]
  },
  {
   "cell_type": "code",
   "execution_count": 33,
   "metadata": {},
   "outputs": [
    {
     "data": {
      "text/plain": [
       "0     10\n",
       "1     20\n",
       "2     30\n",
       "3     40\n",
       "4     50\n",
       "5     60\n",
       "6     70\n",
       "7     80\n",
       "8     90\n",
       "9    100\n",
       "dtype: int32"
      ]
     },
     "execution_count": 33,
     "metadata": {},
     "output_type": "execute_result"
    }
   ],
   "source": [
    "import pandas as pd\n",
    "import numpy as np\n",
    "a=np.array([10,20,30,40,50,60,70,80,90,100])\n",
    "s=pd.Series(a)\n",
    "s"
   ]
  },
  {
   "cell_type": "code",
   "execution_count": 34,
   "metadata": {},
   "outputs": [
    {
     "data": {
      "text/plain": [
       "90"
      ]
     },
     "execution_count": 34,
     "metadata": {},
     "output_type": "execute_result"
    }
   ],
   "source": [
    "s=pd.Series(a,index=['a', 'b', 'c', 'd', 'e', 'f', 'g', 'h', 'i', 'j'])\n",
    "s['i']"
   ]
  },
  {
   "cell_type": "code",
   "execution_count": 35,
   "metadata": {},
   "outputs": [
    {
     "data": {
      "text/plain": [
       "0    1\n",
       "1    2\n",
       "2    3\n",
       "3    4\n",
       "dtype: int64"
      ]
     },
     "execution_count": 35,
     "metadata": {},
     "output_type": "execute_result"
    }
   ],
   "source": [
    "l1=[1,2,3,4]\n",
    "\n",
    "a=pd.Series(l1)\n",
    "a\n"
   ]
  },
  {
   "cell_type": "code",
   "execution_count": 36,
   "metadata": {},
   "outputs": [
    {
     "name": "stdout",
     "output_type": "stream",
     "text": [
      "          0\n",
      "0        10\n",
      "1        20\n",
      "2        30\n",
      "3        40\n",
      "4  [50, 60]\n"
     ]
    }
   ],
   "source": [
    "import pandas as pd\n",
    "\n",
    "list1=[10,20,30,40,[50,60]]\n",
    "df = pd.DataFrame(data=list1)\n",
    "print(df)\n",
    "def healthstatus(bmi):\n",
    "    if (bmi < 18.5):\n",
    "        print(\"underweight\")\n",
    "  \n",
    "    elif (bmi >= 18.5 and bmi < 24.9):\n",
    "        print(\"Healthy\")\n",
    "  \n",
    "    elif (bmi >= 24.9 and bmi < 30):\n",
    "        print( \"overweight\")\n",
    "  \n",
    "    elif (bmi >= 30):\n",
    "        print(\"Suffering from Obesity\")\n",
    "  "
   ]
  },
  {
   "cell_type": "code",
   "execution_count": 37,
   "metadata": {},
   "outputs": [
    {
     "name": "stdout",
     "output_type": "stream",
     "text": [
      "25.076193048107708\n",
      "overweight\n",
      "24.538964901844146\n",
      "Healthy\n",
      "24.677021338365513\n",
      "Healthy\n",
      "24.56747404844291\n",
      "Healthy\n",
      "25.909456951787405\n",
      "overweight\n"
     ]
    },
    {
     "data": {
      "text/html": [
       "<div>\n",
       "<style scoped>\n",
       "    .dataframe tbody tr th:only-of-type {\n",
       "        vertical-align: middle;\n",
       "    }\n",
       "\n",
       "    .dataframe tbody tr th {\n",
       "        vertical-align: top;\n",
       "    }\n",
       "\n",
       "    .dataframe thead th {\n",
       "        text-align: right;\n",
       "    }\n",
       "</style>\n",
       "<table border=\"1\" class=\"dataframe\">\n",
       "  <thead>\n",
       "    <tr style=\"text-align: right;\">\n",
       "      <th></th>\n",
       "      <th>age</th>\n",
       "      <th>gender</th>\n",
       "      <th>height</th>\n",
       "      <th>weight</th>\n",
       "      <th>BMI Values</th>\n",
       "      <th>Your Health Status</th>\n",
       "    </tr>\n",
       "  </thead>\n",
       "  <tbody>\n",
       "    <tr>\n",
       "      <th>0</th>\n",
       "      <td>22</td>\n",
       "      <td>M</td>\n",
       "      <td>161</td>\n",
       "      <td>65</td>\n",
       "      <td>25.076193</td>\n",
       "      <td>overweight</td>\n",
       "    </tr>\n",
       "    <tr>\n",
       "      <th>1</th>\n",
       "      <td>23</td>\n",
       "      <td>F</td>\n",
       "      <td>164</td>\n",
       "      <td>66</td>\n",
       "      <td>24.538965</td>\n",
       "      <td>Healthy</td>\n",
       "    </tr>\n",
       "    <tr>\n",
       "      <th>2</th>\n",
       "      <td>21</td>\n",
       "      <td>M</td>\n",
       "      <td>166</td>\n",
       "      <td>68</td>\n",
       "      <td>24.677021</td>\n",
       "      <td>Healthy</td>\n",
       "    </tr>\n",
       "    <tr>\n",
       "      <th>3</th>\n",
       "      <td>24</td>\n",
       "      <td>F</td>\n",
       "      <td>170</td>\n",
       "      <td>71</td>\n",
       "      <td>24.567474</td>\n",
       "      <td>Healthy</td>\n",
       "    </tr>\n",
       "    <tr>\n",
       "      <th>4</th>\n",
       "      <td>23</td>\n",
       "      <td>M</td>\n",
       "      <td>169</td>\n",
       "      <td>74</td>\n",
       "      <td>25.909457</td>\n",
       "      <td>overweight</td>\n",
       "    </tr>\n",
       "  </tbody>\n",
       "</table>\n",
       "</div>"
      ],
      "text/plain": [
       "   age gender  height  weight  BMI Values Your Health Status\n",
       "0   22      M     161      65   25.076193         overweight\n",
       "1   23      F     164      66   24.538965            Healthy\n",
       "2   21      M     166      68   24.677021            Healthy\n",
       "3   24      F     170      71   24.567474            Healthy\n",
       "4   23      M     169      74   25.909457         overweight"
      ]
     },
     "execution_count": 37,
     "metadata": {},
     "output_type": "execute_result"
    }
   ],
   "source": [
    "import pandas as pd\n",
    "\n",
    "bmi={ \"age\":[22,23,21,24,23],\"gender\":[\"M\",\"F\",\"M\",\"F\",\"M\"],\"height\":[161,164,166,170,169],\"weight\":[65,66,68,71,74] }\n",
    "\n",
    "df=pd.DataFrame(bmi)\n",
    "# print(df)\n",
    "def healthstatus(bmi):\n",
    "    status=\"\"\n",
    "    if (bmi < 18.5):\n",
    "        print(\"underweight\")\n",
    "        status=\"UnderWeight\"\n",
    "        return status\n",
    "  \n",
    "    elif (bmi >= 18.5 and bmi < 24.9):\n",
    "        print(\"Healthy\")\n",
    "        status=\"Healthy\"\n",
    "        return status\n",
    "  \n",
    "  \n",
    "    elif (bmi >= 24.9 and bmi < 30):\n",
    "        print( \"overweight\")\n",
    "        status=\"overweight\"\n",
    "        return status\n",
    "  \n",
    "    elif (bmi >= 30):\n",
    "        print(\"Suffering from Obesity\")\n",
    "        status=\"Suffering from Obesity\"\n",
    "        return status\n",
    "  \n",
    "bmivalues=[]\n",
    "healthstatuses=[]\n",
    "for i in range(1):\n",
    "    ht=bmi[\"height\"]\n",
    "    wt=bmi[\"weight\"]\n",
    "    \n",
    "    for j in range(len(ht)):\n",
    "        # print(ht[j])\n",
    "        # print(wt[j])\n",
    "        ans=wt[j]/(ht[j]/100)**2\n",
    "        print(ans)\n",
    "        bmivalues.append(ans)\n",
    "        bmistate=healthstatus(ans)\n",
    "        healthstatuses.append(bmistate)\n",
    "\n",
    "df[\"BMI Values\"]=bmivalues\n",
    "df[\"Your Health Status\"]=healthstatuses\n",
    "df"
   ]
  },
  {
   "cell_type": "code",
   "execution_count": 38,
   "metadata": {},
   "outputs": [
    {
     "name": "stdout",
     "output_type": "stream",
     "text": [
      "age        23\n",
      "gender      F\n",
      "height    164\n",
      "weight     66\n",
      "Name: 1, dtype: object\n",
      "age        23\n",
      "gender      F\n",
      "height    164\n",
      "weight     66\n",
      "Name: 1, dtype: object\n",
      "age        23\n",
      "gender      F\n",
      "height    164\n",
      "weight     66\n",
      "Name: 1, dtype: object\n",
      "age        23\n",
      "gender      F\n",
      "height    164\n",
      "weight     66\n",
      "Name: 1, dtype: object\n",
      "age        23\n",
      "gender      F\n",
      "height    164\n",
      "weight     66\n",
      "Name: 1, dtype: object\n"
     ]
    }
   ],
   "source": [
    "import pandas as pd\n",
    "\n",
    "bmi={ \"age\":[22,23,21,24,23],\"gender\":[\"M\",\"F\",\"M\",\"F\",\"M\"],\"height\":[161,164,166,170,169],\"weight\":[65,66,68,71,74] }\n",
    "\n",
    "df=pd.DataFrame(bmi)\n",
    "for i in range(5):\n",
    "    a=df.loc[1]\n",
    "    print(a)\n"
   ]
  },
  {
   "cell_type": "code",
   "execution_count": 39,
   "metadata": {},
   "outputs": [
    {
     "name": "stdout",
     "output_type": "stream",
     "text": [
      "<bound method DataFrame.to_string of                                                    students\n",
      "student1  {'name': 'ABC', 'rollnumber': 1, 'class': 1, '...\n",
      "student2       {'name': 'DEF', 'rollnumber': 2, 'class': 2}\n",
      "student3       {'name': 'EFG', 'rollnumber': 3, 'class': 3}>\n"
     ]
    }
   ],
   "source": [
    "import pandas as pd\n",
    "\n",
    "df=pd.read_json(\"data.json\")\n",
    "print(df.to_string)\n"
   ]
  }
 ],
 "metadata": {
  "kernelspec": {
   "display_name": "base",
   "language": "python",
   "name": "python3"
  },
  "language_info": {
   "codemirror_mode": {
    "name": "ipython",
    "version": 3
   },
   "file_extension": ".py",
   "mimetype": "text/x-python",
   "name": "python",
   "nbconvert_exporter": "python",
   "pygments_lexer": "ipython3",
   "version": "3.11.2"
  },
  "orig_nbformat": 4
 },
 "nbformat": 4,
 "nbformat_minor": 2
}
