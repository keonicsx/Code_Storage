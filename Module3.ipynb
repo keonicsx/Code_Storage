{
 "cells": [
  {
   "attachments": {},
   "cell_type": "markdown",
   "metadata": {},
   "source": [
    "Business Statistics"
   ]
  },
  {
   "cell_type": "code",
   "execution_count": 4,
   "metadata": {},
   "outputs": [
    {
     "data": {
      "text/plain": [
       "5"
      ]
     },
     "execution_count": 4,
     "metadata": {},
     "output_type": "execute_result"
    }
   ],
   "source": [
    "import statistics as st\n",
    "\n",
    "li = [1,2,3,4,5,6,7,8,9]\n",
    "st.mean(li)\n",
    "\n"
   ]
  },
  {
   "cell_type": "code",
   "execution_count": 7,
   "metadata": {},
   "outputs": [
    {
     "data": {
      "text/plain": [
       "25.0"
      ]
     },
     "execution_count": 7,
     "metadata": {},
     "output_type": "execute_result"
    }
   ],
   "source": [
    "import statistics as st\n",
    "\n",
    "li = [10,20,30,40]\n",
    "st.median(li)\n"
   ]
  },
  {
   "cell_type": "code",
   "execution_count": 12,
   "metadata": {},
   "outputs": [
    {
     "data": {
      "text/plain": [
       "1"
      ]
     },
     "execution_count": 12,
     "metadata": {},
     "output_type": "execute_result"
    }
   ],
   "source": [
    "import statistics as st\n",
    "\n",
    "li = [4,4,6,8,9,1,1,1,6,7]\n",
    "st.mode(li)\n"
   ]
  },
  {
   "cell_type": "code",
   "execution_count": 25,
   "metadata": {},
   "outputs": [
    {
     "name": "stdout",
     "output_type": "stream",
     "text": [
      "x-Mu: 79.33333333333334\n",
      "Standard Deviation: 3.636237371545238\n"
     ]
    }
   ],
   "source": [
    "from math import sqrt \n",
    "# given data\n",
    "x=[-2,-1,1,4,6,8]\n",
    "N=len(x)\n",
    "Mu= sum(x)/N  # 4.4\n",
    "x_mu =0\n",
    "for i in x:\n",
    "    x_mu = x_mu +  (i-Mu)**2\n",
    "print(\"x-Mu:\",x_mu)  # 21.2\n",
    "    \n",
    "Sigma = sqrt( (x_mu)/N )\n",
    "print(\"Standard Deviation:\",Sigma)\n",
    "# 1.9148542155126762"
   ]
  }
 ],
 "metadata": {
  "kernelspec": {
   "display_name": "Python 3",
   "language": "python",
   "name": "python3"
  },
  "language_info": {
   "codemirror_mode": {
    "name": "ipython",
    "version": 3
   },
   "file_extension": ".py",
   "mimetype": "text/x-python",
   "name": "python",
   "nbconvert_exporter": "python",
   "pygments_lexer": "ipython3",
   "version": "3.11.2"
  },
  "orig_nbformat": 4
 },
 "nbformat": 4,
 "nbformat_minor": 2
}
