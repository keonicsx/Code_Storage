{
 "cells": [
  {
   "cell_type": "code",
   "execution_count": 51,
   "metadata": {},
   "outputs": [
    {
     "name": "stdout",
     "output_type": "stream",
     "text": [
      "['THON 1\\n']\n",
      "10\n"
     ]
    }
   ],
   "source": [
    "names=['PYTHON']\n",
    "grades=[1,4,5,8,7,]\n",
    "    \n",
    "\n",
    "\n",
    "# 1st code\n",
    "fd = open(r\"a.txt\",\"w\")\n",
    "for i in range(1):\n",
    "    record= names[i]+str(\" \")+str(grades[i])+str(\"\\n\")\n",
    "    val =fd.write(record)\n",
    "fd.close()\n",
    "\n",
    "#  2nd code\n",
    "fd = open(r\"a.txt\",\"r\")\n",
    "fd.seek(2)\n",
    "\n",
    "file_data =fd.readlines()\n",
    "print(file_data)\n",
    "print(fd.tell())\n",
    "fd.close()\n"
   ]
  }
 ],
 "metadata": {
  "kernelspec": {
   "display_name": "Python 3",
   "language": "python",
   "name": "python3"
  },
  "language_info": {
   "codemirror_mode": {
    "name": "ipython",
    "version": 3
   },
   "file_extension": ".py",
   "mimetype": "text/x-python",
   "name": "python",
   "nbconvert_exporter": "python",
   "pygments_lexer": "ipython3",
   "version": "3.11.2"
  },
  "orig_nbformat": 4
 },
 "nbformat": 4,
 "nbformat_minor": 2
}
