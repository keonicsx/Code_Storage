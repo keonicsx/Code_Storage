{
 "cells": [
  {
   "cell_type": "code",
   "execution_count": 57,
   "metadata": {
    "scrolled": true
   },
   "outputs": [
    {
     "name": "stdout",
     "output_type": "stream",
     "text": [
      "Error MSE Score: 0.3497752251878446\n",
      "Error MAE Score: 0.5108907680647213\n",
      "Error RMSE Score: 0.3497752251878446\n",
      "Error R2 Score: -0.3991009007513784\n",
      "Error Cont Mat Score: [[1 0 1 0]\n",
      " [0 1 0 1]]\n"
     ]
    },
    {
     "data": {
      "image/png": "[encoded data removed]",
      "text/plain": [
       "<Figure size 640x480 with 1 Axes>"
      ]
     },
     "metadata": {},
     "output_type": "display_data"
    }
   ],
   "source": [
    "# problem: Check eligibility for driving license\n",
    "# Data: License_data.csv\n",
    "# check the info, describe, shape, duplicates, outliers, Null values, NaN\n",
    "\n",
    "import matplotlib.pyplot as plt\n",
    "import pandas as pd\n",
    "from sklearn.model_selection import train_test_split\n",
    "from sklearn.linear_model import LinearRegression\n",
    "from sklearn import metrics\n",
    "\n",
    "df = pd.read_csv(\"Licence_data.csv\")\n",
    "# df.info()\n",
    "# df.describe()\n",
    "# df.shape\n",
    "# df.isnull()\n",
    "X=df.drop([\"License_status\"], axis=1)\n",
    "y=df.drop([\"Age\",\"Performance\"], axis=1)\n",
    "\n",
    "\n",
    "\n",
    "x_train,x_test,y_train,y_test = train_test_split(X,y,train_size=0.8)\n",
    "\n",
    "model  = LinearRegression()\n",
    "\n",
    "model.fit(x_train,y_train)\n",
    "y_pred= model.predict(x_test)\n",
    "MSE = metrics.mean_squared_error(y_test,y_pred)\n",
    "MAE = metrics.mean_absolute_error(y_test,y_pred)\n",
    "RMSE=metrics.mean_squared_error(y_test,y_pred)\n",
    "R2=metrics.r2_score(y_test,y_pred)\n",
    "\n",
    "# Types of metrics can be checked are:\n",
    "# Mean Squared Error (MSE). Mean squared error regression loss.\n",
    "# Root Mean Squared Error (RMSE).\n",
    "# Mean Absolute Error (MAE) Mean absolute error regression loss.\n",
    "# r2_score (coefficient of determination) regression score function.\n",
    "cm=metrics.cluster.contingency_matrix(y_test,y_pred)\n",
    "\n",
    "print(\"Error MSE Score:\",MSE)\n",
    "print(\"Error MAE Score:\",MAE)\n",
    "print(\"Error RMSE Score:\",RMSE)\n",
    "print(\"Error R2 Score:\",R2)\n",
    "print(\"Error Cont Mat Score:\",cm)\n",
    "plt.scatter(x=df['Age'],y=df['Performance'],color=\"blue\")\n",
    "plt.scatter(x=y_test,y=y_pred,color=\"red\")\n",
    "plt.show()"
   ]
  }
 ],
 "metadata": {
  "kernelspec": {
   "display_name": "Python 3 (ipykernel)",
   "language": "python",
   "name": "python3"
  },
  "language_info": {
   "codemirror_mode": {
    "name": "ipython",
    "version": 3
   },
   "file_extension": ".py",
   "mimetype": "text/x-python",
   "name": "python",
   "nbconvert_exporter": "python",
   "pygments_lexer": "ipython3",
   "version": "3.11.2"
  }
 },
 "nbformat": 4,
 "nbformat_minor": 2
}
