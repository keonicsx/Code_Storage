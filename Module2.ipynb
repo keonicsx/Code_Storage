{
 "cells": [
  {
   "attachments": {},
   "cell_type": "markdown",
   "metadata": {},
   "source": [
    "Functions"
   ]
  },
  {
   "cell_type": "code",
   "execution_count": 34,
   "metadata": {},
   "outputs": [
    {
     "name": "stdout",
     "output_type": "stream",
     "text": [
      "first == Geeks\n",
      "mid == for\n",
      "last == Geeks\n"
     ]
    }
   ],
   "source": [
    " \n",
    "def myFun(**kwargs):\n",
    "    for key, value in kwargs.items():\n",
    "        print(\"%s == %s\" % (key, value))\n",
    " \n",
    " \n",
    "# Driver code\n",
    "myFun(first='Geeks', mid='for', last='Geeks')"
   ]
  },
  {
   "attachments": {},
   "cell_type": "markdown",
   "metadata": {},
   "source": [
    "function inside function"
   ]
  },
  {
   "cell_type": "code",
   "execution_count": 35,
   "metadata": {},
   "outputs": [
    {
     "name": "stdout",
     "output_type": "stream",
     "text": [
      "Hello Python\n"
     ]
    }
   ],
   "source": [
    "out='Python'\n",
    "\n",
    "def f1():\n",
    "    s1='Hello'\n",
    "    def f2():\n",
    "        print(s1,out)\n",
    "    f2()\n",
    "f1()"
   ]
  },
  {
   "cell_type": "code",
   "execution_count": 36,
   "metadata": {},
   "outputs": [
    {
     "name": "stdout",
     "output_type": "stream",
     "text": [
      " lorem ipsum dolor sit\n",
      "    amet, consectetur\n",
      "    adipis\n",
      "......................\n",
      "<function my_function at 0x000001DE78F39EE0>\n"
     ]
    }
   ],
   "source": [
    "def my_function():\n",
    "    ''' lorem ipsum dolor sit\n",
    "    amet, consectetur\n",
    "    adipis'''\n",
    "    return None\n",
    "\n",
    "print(my_function.__doc__)\n",
    "print('......................')\n",
    "print(my_function)"
   ]
  },
  {
   "cell_type": "code",
   "execution_count": 37,
   "metadata": {},
   "outputs": [
    {
     "name": "stdout",
     "output_type": "stream",
     "text": [
      "8\n"
     ]
    }
   ],
   "source": [
    "def cube_function(n):\n",
    "    ans = n*n*n\n",
    "    return ans\n",
    "\n",
    "print(cube_function(2))\n"
   ]
  },
  {
   "cell_type": "code",
   "execution_count": 38,
   "metadata": {},
   "outputs": [
    {
     "ename": "SyntaxError",
     "evalue": "invalid syntax (2569178938.py, line 1)",
     "output_type": "error",
     "traceback": [
      "\u001b[1;36m  Cell \u001b[1;32mIn[38], line 1\u001b[1;36m\u001b[0m\n\u001b[1;33m    var = lambda a:\u001b[0m\n\u001b[1;37m                    ^\u001b[0m\n\u001b[1;31mSyntaxError\u001b[0m\u001b[1;31m:\u001b[0m invalid syntax\n"
     ]
    }
   ],
   "source": [
    "var = lambda a: \n",
    "print(var(2))\n",
    "\n",
    "def add(a):\n",
    "    a+10\n",
    "    a-10\n",
    "    return a+10\n",
    "print(add(2))"
   ]
  },
  {
   "cell_type": "code",
   "execution_count": null,
   "metadata": {},
   "outputs": [
    {
     "name": "stdout",
     "output_type": "stream",
     "text": [
      "4\n",
      "64\n",
      "From User def: 5\n"
     ]
    }
   ],
   "source": [
    "var1=lambda n: n*n\n",
    "var2=lambda n: n*n*n\n",
    "\n",
    "ans= var1(2)\n",
    "print(ans)\n",
    "print(var2(ans))\n",
    "\n",
    "def call_func():\n",
    "    ans = var1(2) + 1\n",
    "    print(\"From User def:\",ans)\n",
    "\n",
    "call_func()"
   ]
  },
  {
   "cell_type": "code",
   "execution_count": null,
   "metadata": {},
   "outputs": [
    {
     "data": {
      "text/plain": [
       "False"
      ]
     },
     "execution_count": 25,
     "metadata": {},
     "output_type": "execute_result"
    }
   ],
   "source": [
    "#program to find odd and even\n",
    "ans = lambda num: True if num%2 == 0 else False\n",
    "\n",
    "ans(3)\n"
   ]
  },
  {
   "cell_type": "code",
   "execution_count": null,
   "metadata": {},
   "outputs": [
    {
     "name": "stdout",
     "output_type": "stream",
     "text": [
      "Hi there am from python program\n",
      "Hi All\n"
     ]
    }
   ],
   "source": [
    "# file1= open(\"new_file.txt\",\"w\")\n",
    "# file1.write(\"Hi there am from python program\")\n",
    "# file1.close()\n",
    "\n",
    "file1= open(\"new_file.txt\",\"r\")\n",
    "print(file1.read())\n",
    "file1.close()\n",
    "\n",
    "\n"
   ]
  },
  {
   "cell_type": "code",
   "execution_count": null,
   "metadata": {},
   "outputs": [
    {
     "name": "stdout",
     "output_type": "stream",
     "text": [
      "3\n",
      "4\n"
     ]
    }
   ],
   "source": [
    "list1=[1,2,3,4]\n",
    "\n",
    "iterator_obj=iter(list1)\n",
    "next(iterator_obj)\n",
    "next(iterator_obj)\n",
    "print(next(iterator_obj))\n",
    "print(next(iterator_obj))\n"
   ]
  },
  {
   "cell_type": "code",
   "execution_count": null,
   "metadata": {},
   "outputs": [
    {
     "data": {
      "text/plain": [
       "'P'"
      ]
     },
     "execution_count": 11,
     "metadata": {},
     "output_type": "execute_result"
    }
   ],
   "source": [
    "string1=\"Python\"\n",
    "Iter1=iter(string1)\n",
    "next(Iter1)"
   ]
  },
  {
   "cell_type": "code",
   "execution_count": null,
   "metadata": {},
   "outputs": [
    {
     "name": "stdout",
     "output_type": "stream",
     "text": [
      "100\n"
     ]
    }
   ],
   "source": [
    "def gen():\n",
    "    for i in range(0,20):\n",
    "        if i % 2 != 0:\n",
    "            yield i\n",
    "\n",
    "def sum():\n",
    "    s=0\n",
    "    for val in gen():\n",
    "        s = s + val\n",
    "    print(s)\n",
    "sum()"
   ]
  },
  {
   "cell_type": "code",
   "execution_count": 62,
   "metadata": {},
   "outputs": [
    {
     "data": {
      "text/plain": [
       "1"
      ]
     },
     "execution_count": 62,
     "metadata": {},
     "output_type": "execute_result"
    }
   ],
   "source": [
    "list=[10,'y',100,20]\n",
    "list.index('y')"
   ]
  },
  {
   "cell_type": "code",
   "execution_count": 63,
   "metadata": {},
   "outputs": [
    {
     "data": {
      "text/plain": [
       "[10, 'y', 100, 35, 20]"
      ]
     },
     "execution_count": 63,
     "metadata": {},
     "output_type": "execute_result"
    }
   ],
   "source": [
    "list.insert(3,35)\n",
    "list"
   ]
  },
  {
   "cell_type": "code",
   "execution_count": 64,
   "metadata": {},
   "outputs": [
    {
     "data": {
      "text/plain": [
       "20"
      ]
     },
     "execution_count": 64,
     "metadata": {},
     "output_type": "execute_result"
    }
   ],
   "source": [
    "list.pop()"
   ]
  },
  {
   "cell_type": "code",
   "execution_count": 65,
   "metadata": {},
   "outputs": [
    {
     "data": {
      "text/plain": [
       "[10, 'y', 100, 35]"
      ]
     },
     "execution_count": 65,
     "metadata": {},
     "output_type": "execute_result"
    }
   ],
   "source": [
    "list"
   ]
  },
  {
   "cell_type": "code",
   "execution_count": 66,
   "metadata": {},
   "outputs": [
    {
     "data": {
      "text/plain": [
       "[10, 'y', 100]"
      ]
     },
     "execution_count": 66,
     "metadata": {},
     "output_type": "execute_result"
    }
   ],
   "source": [
    "list.remove(35)\n",
    "list"
   ]
  },
  {
   "cell_type": "code",
   "execution_count": 67,
   "metadata": {},
   "outputs": [
    {
     "data": {
      "text/plain": [
       "[100, 'y', 10]"
      ]
     },
     "execution_count": 67,
     "metadata": {},
     "output_type": "execute_result"
    }
   ],
   "source": [
    "list.reverse()\n",
    "list"
   ]
  },
  {
   "cell_type": "code",
   "execution_count": 68,
   "metadata": {},
   "outputs": [
    {
     "data": {
      "text/plain": [
       "[100, 'y', 10]"
      ]
     },
     "execution_count": 68,
     "metadata": {},
     "output_type": "execute_result"
    }
   ],
   "source": [
    "list"
   ]
  },
  {
   "cell_type": "code",
   "execution_count": 2,
   "metadata": {},
   "outputs": [
    {
     "data": {
      "text/plain": [
       "[10, 9, 8, 7, 6, 5, 3, 1]"
      ]
     },
     "execution_count": 2,
     "metadata": {},
     "output_type": "execute_result"
    }
   ],
   "source": [
    "list=[5,8,6,9,7,1,10,3]\n",
    "list.sort(reverse=True)\n",
    "list"
   ]
  },
  {
   "cell_type": "code",
   "execution_count": null,
   "metadata": {},
   "outputs": [],
   "source": []
  },
  {
   "cell_type": "code",
   "execution_count": 73,
   "metadata": {},
   "outputs": [
    {
     "data": {
      "text/plain": [
       "[10, 9, 8, 7, 6, 5, 3, 1]"
      ]
     },
     "execution_count": 73,
     "metadata": {},
     "output_type": "execute_result"
    }
   ],
   "source": [
    "list=[5,8,6,9,7,1,10,3]\n",
    "list.sort()\n",
    "list.reverse()\n",
    "list"
   ]
  },
  {
   "cell_type": "code",
   "execution_count": 75,
   "metadata": {},
   "outputs": [
    {
     "data": {
      "text/plain": [
       "[[1], [3], [5]]"
      ]
     },
     "execution_count": 75,
     "metadata": {},
     "output_type": "execute_result"
    }
   ],
   "source": [
    "list1 = [[i+1] for i in range(5) if i % 2 ==0 ]\n",
    "list1"
   ]
  },
  {
   "cell_type": "code",
   "execution_count": 5,
   "metadata": {},
   "outputs": [
    {
     "name": "stdout",
     "output_type": "stream",
     "text": [
      "[1, 3, 5, 7, 9, 11, 13, 15, 17, 19, 21, 23, 25, 27, 29, 31, 33, 35, 37, 39, 41, 43, 45, 47, 49, 51, 53, 55, 57, 59, 61, 63, 65, 67, 69, 71, 73, 75, 77, 79, 81, 83, 85, 87, 89, 91, 93, 95, 97, 99]\n"
     ]
    }
   ],
   "source": [
    "odd_list=[]\n",
    "for i in range(100):\n",
    "      if i % 2 != 0:\n",
    "        odd_list.append(i)\n",
    "print(odd_list)"
   ]
  },
  {
   "cell_type": "code",
   "execution_count": 20,
   "metadata": {},
   "outputs": [
    {
     "name": "stdout",
     "output_type": "stream",
     "text": [
      "['BANANA', 'MANGO', 'GRAPES', 'WATERMELON']\n"
     ]
    }
   ],
   "source": [
    "fruits =['Ornge','Banana','Mango','Grapes','Watermelon']\n",
    "fruit_list= [i.upper() for i in fruits if i.find(\"a\") != -1 ]\n",
    "print(fruit_list)\n"
   ]
  },
  {
   "cell_type": "code",
   "execution_count": 1,
   "metadata": {},
   "outputs": [
    {
     "data": {
      "text/plain": [
       "[[1, 3, 5, 7, 9, 11, 13, 15, 17, 19, 21, 23, 25, 27, 29, 31],\n",
       " [1, 3, 5, 7, 9, 11, 13, 15, 17, 19, 21, 23, 25, 27, 29, 31],\n",
       " [1, 3, 5, 7, 9, 11, 13, 15, 17, 19, 21, 23, 25, 27, 29, 31],\n",
       " [1, 3, 5, 7, 9, 11, 13, 15, 17, 19, 21, 23, 25, 27, 29, 31],\n",
       " [1, 3, 5, 7, 9, 11, 13, 15, 17, 19, 21, 23, 25, 27, 29, 31],\n",
       " [1, 3, 5, 7, 9, 11, 13, 15, 17, 19, 21, 23, 25, 27, 29, 31],\n",
       " [1, 3, 5, 7, 9, 11, 13, 15, 17, 19, 21, 23, 25, 27, 29, 31],\n",
       " [1, 3, 5, 7, 9, 11, 13, 15, 17, 19, 21, 23, 25, 27, 29, 31],\n",
       " [1, 3, 5, 7, 9, 11, 13, 15, 17, 19, 21, 23, 25, 27, 29, 31],\n",
       " [1, 3, 5, 7, 9, 11, 13, 15, 17, 19, 21, 23, 25, 27, 29, 31],\n",
       " [1, 3, 5, 7, 9, 11, 13, 15, 17, 19, 21, 23, 25, 27, 29, 31],\n",
       " [1, 3, 5, 7, 9, 11, 13, 15, 17, 19, 21, 23, 25, 27, 29, 31],\n",
       " [1, 3, 5, 7, 9, 11, 13, 15, 17, 19, 21, 23, 25, 27, 29, 31],\n",
       " [1, 3, 5, 7, 9, 11, 13, 15, 17, 19, 21, 23, 25, 27, 29, 31],\n",
       " [1, 3, 5, 7, 9, 11, 13, 15, 17, 19, 21, 23, 25, 27, 29, 31],\n",
       " [1, 3, 5, 7, 9, 11, 13, 15, 17, 19, 21, 23, 25, 27, 29, 31]]"
      ]
     },
     "execution_count": 1,
     "metadata": {},
     "output_type": "execute_result"
    }
   ],
   "source": [
    "list=[[i for i in range(32) if i%2 != 0] for j in range(16)]\n",
    "list\n",
    "\n",
    "l1=[j for j in range(4)]"
   ]
  },
  {
   "cell_type": "code",
   "execution_count": 7,
   "metadata": {},
   "outputs": [
    {
     "data": {
      "text/plain": [
       "[[1, 3, 5, 7, 9, 11, 13, 15, 17, 19, 21, 23, 25, 27, 29, 31],\n",
       " [1, 3, 5, 7, 9, 11, 13, 15, 17, 19, 21, 23, 25, 27, 29, 31],\n",
       " [1, 3, 5, 7, 9, 11, 13, 15, 17, 19, 21, 23, 25, 27, 29, 31],\n",
       " [1, 3, 5, 7, 9, 11, 13, 15, 17, 19, 21, 23, 25, 27, 29, 31],\n",
       " [1, 3, 5, 7, 9, 11, 13, 15, 17, 19, 21, 23, 25, 27, 29, 31],\n",
       " [1, 3, 5, 7, 9, 11, 13, 15, 17, 19, 21, 23, 25, 27, 29, 31],\n",
       " [1, 3, 5, 7, 9, 11, 13, 15, 17, 19, 21, 23, 25, 27, 29, 31],\n",
       " [1, 3, 5, 7, 9, 11, 13, 15, 17, 19, 21, 23, 25, 27, 29, 31],\n",
       " [1, 3, 5, 7, 9, 11, 13, 15, 17, 19, 21, 23, 25, 27, 29, 31],\n",
       " [1, 3, 5, 7, 9, 11, 13, 15, 17, 19, 21, 23, 25, 27, 29, 31],\n",
       " [1, 3, 5, 7, 9, 11, 13, 15, 17, 19, 21, 23, 25, 27, 29, 31],\n",
       " [1, 3, 5, 7, 9, 11, 13, 15, 17, 19, 21, 23, 25, 27, 29, 31],\n",
       " [1, 3, 5, 7, 9, 11, 13, 15, 17, 19, 21, 23, 25, 27, 29, 31],\n",
       " [1, 3, 5, 7, 9, 11, 13, 15, 17, 19, 21, 23, 25, 27, 29, 31],\n",
       " [1, 3, 5, 7, 9, 11, 13, 15, 17, 19, 21, 23, 25, 27, 29, 31],\n",
       " [1, 3, 5, 7, 9, 11, 13, 15, 17, 19, 21, 23, 25, 27, 29, 31]]"
      ]
     },
     "execution_count": 7,
     "metadata": {},
     "output_type": "execute_result"
    }
   ],
   "source": [
    "mat=[]\n",
    "for i in range(16):\n",
    "    mat.append([])\n",
    "    for j in range(16):\n",
    "        j=2*j+1\n",
    "        mat[i].append(j)\n",
    "mat"
   ]
  },
  {
   "cell_type": "code",
   "execution_count": 15,
   "metadata": {},
   "outputs": [
    {
     "data": {
      "text/plain": [
       "(1, [2, 3, 4], (5, 6))"
      ]
     },
     "execution_count": 15,
     "metadata": {},
     "output_type": "execute_result"
    }
   ],
   "source": [
    "t1= (1,[2,3],(5,6))\n",
    "t2= ()\n",
    "t1[1].append(4)\n",
    "t1"
   ]
  },
  {
   "cell_type": "code",
   "execution_count": 28,
   "metadata": {},
   "outputs": [
    {
     "name": "stdout",
     "output_type": "stream",
     "text": [
      "64\n",
      "28\n"
     ]
    }
   ],
   "source": [
    "import sys\n",
    "\n",
    "list1=[1]\n",
    "tuple1=(1)\n",
    "print(sys.getsizeof(list1))\n",
    "print(sys.getsizeof(tuple1))"
   ]
  },
  {
   "cell_type": "code",
   "execution_count": 31,
   "metadata": {},
   "outputs": [
    {
     "name": "stdout",
     "output_type": "stream",
     "text": [
      "<class 'dict'>\n"
     ]
    }
   ],
   "source": [
    "d1={\"3\":1}\n",
    "print(type(d1))"
   ]
  },
  {
   "cell_type": "code",
   "execution_count": 54,
   "metadata": {},
   "outputs": [
    {
     "name": "stdout",
     "output_type": "stream",
     "text": [
      "{'A', 'B', 'D', 'C'}\n",
      "{'A', 'B', 'D', 'C'}\n"
     ]
    }
   ],
   "source": [
    "people ={\"A\",\"B\",\"C\",\"D\"}\n",
    "print(people)\n",
    "\n",
    "people.add(\"D\")\n",
    "print(people)\n"
   ]
  },
  {
   "cell_type": "code",
   "execution_count": 55,
   "metadata": {},
   "outputs": [
    {
     "data": {
      "text/plain": [
       "{'A', 'B', 'C', 'D', 'E', 'F', 'G', 'H', 'I'}"
      ]
     },
     "execution_count": 55,
     "metadata": {},
     "output_type": "execute_result"
    }
   ],
   "source": [
    "people ={'A','B','C','D'}\n",
    "vampire={'E','F','G','H','I'}\n",
    "dracula={'J','K','L','M','N'}\n",
    "\n",
    "population= people.union(vampire)\n",
    "population"
   ]
  },
  {
   "cell_type": "code",
   "execution_count": 62,
   "metadata": {},
   "outputs": [
    {
     "data": {
      "text/plain": [
       "{0, 1, 2, 3, 4, 5, 6, 7, 8}"
      ]
     },
     "execution_count": 62,
     "metadata": {},
     "output_type": "execute_result"
    }
   ],
   "source": [
    "set1=set()\n",
    "set2=set()\n",
    "\n",
    "for i in range(5):\n",
    "    set1.add(i)\n",
    "for i in range(3,9):\n",
    "    set2.add(i)\n",
    "\n",
    "set3=set2|set1\n",
    "set3"
   ]
  },
  {
   "cell_type": "code",
   "execution_count": 64,
   "metadata": {},
   "outputs": [
    {
     "name": "stdout",
     "output_type": "stream",
     "text": [
      "{0, 1, 2, 3, 4}\n",
      "set()\n"
     ]
    }
   ],
   "source": [
    "set1=set()\n",
    "for i in range(5):\n",
    "    set1.add(i)\n",
    "print(set1)\n",
    "\n",
    "set1.clear()\n",
    "print(set1)\n"
   ]
  },
  {
   "attachments": {},
   "cell_type": "markdown",
   "metadata": {},
   "source": [
    "Dictionary"
   ]
  },
  {
   "cell_type": "code",
   "execution_count": 7,
   "metadata": {},
   "outputs": [
    {
     "name": "stdout",
     "output_type": "stream",
     "text": [
      "Python\n"
     ]
    }
   ],
   "source": [
    "d={\"Programming\":{1:\"Python\",2:\"C\",3:\"C++\",4:\"Java\"},0:\"Zero value\"}\n",
    "print(d[\"Programming\"][1])"
   ]
  },
  {
   "cell_type": "code",
   "execution_count": 16,
   "metadata": {},
   "outputs": [
    {
     "data": {
      "text/plain": [
       "{0: 'Hello',\n",
       " 1: 1,\n",
       " 2: 4,\n",
       " 3: 9,\n",
       " 4: 16,\n",
       " 5: 'Hi',\n",
       " 6: 36,\n",
       " 7: 49,\n",
       " 8: 64,\n",
       " 9: 81,\n",
       " 10: {'numbers': {1, 2, 3, 4, 5, 6, 7, 8}}}"
      ]
     },
     "execution_count": 16,
     "metadata": {},
     "output_type": "execute_result"
    }
   ],
   "source": [
    "d={}\n",
    "for i in range(10):\n",
    "    d[i]= i*i\n",
    "d[10]={\"numbers\":{1,2,3,4,5,6,7,8}}\n",
    "d.update({5:\"Hi\",0:\"Hello\"})\n",
    "d"
   ]
  },
  {
   "cell_type": "code",
   "execution_count": 22,
   "metadata": {},
   "outputs": [
    {
     "name": "stdout",
     "output_type": "stream",
     "text": [
      "A\n"
     ]
    }
   ],
   "source": [
    "d={\"Programming\":\"Python\",0:\"Zero value\",\"A\":\"B\"}\n",
    "j=0\n",
    "for i in d:\n",
    "    if j==2:\n",
    "        print(i)\n",
    "    j=j+1"
   ]
  },
  {
   "cell_type": "code",
   "execution_count": 26,
   "metadata": {},
   "outputs": [
    {
     "name": "stdout",
     "output_type": "stream",
     "text": [
      "The newly created dict with list values : {'c': [2, 3], 'e': [2, 3], 'b': [2, 3], 'a': [2, 3], 'd': [2, 3]}\n",
      "The newly created dict with list values : {'c': [2, 3, 4, 5, 6], 'e': [2, 3, 4, 5, 6], 'b': [2, 3, 4, 5, 6], 'a': [2, 3, 4, 5, 6], 'd': [2, 3, 4, 5, 6]}\n"
     ]
    }
   ],
   "source": [
    "seq = {'a', 'b', 'c', 'd', 'e'}\n",
    "lis1 = [2, 3]\n",
    " \n",
    "res_dict = dict.fromkeys(seq, lis1)\n",
    "print(\"The newly created dict with list values : \"      + str(res_dict))\n",
    " \n",
    "\n",
    "lis1 = [2, 3, 4,5,6]\n",
    "\n",
    "res_dict2 = {key: list(lis1) for key in seq}\n",
    "\n",
    "print(\"The newly created dict with list values : \"      + str(res_dict2))"
   ]
  },
  {
   "attachments": {},
   "cell_type": "markdown",
   "metadata": {},
   "source": []
  },
  {
   "cell_type": "code",
   "execution_count": 28,
   "metadata": {},
   "outputs": [
    {
     "name": "stdout",
     "output_type": "stream",
     "text": [
      "y\n",
      "o\n",
      "p\n",
      "h\n",
      "n\n",
      "t\n",
      "0 y\n",
      "1 o\n",
      "2 p\n",
      "3 h\n",
      "4 n\n",
      "5 t\n"
     ]
    }
   ],
   "source": [
    "set1=set(\"python\")\n",
    "\n",
    "for i in set1:\n",
    "    print(i)\n",
    "\n",
    "for id,val in enumerate(set1):\n",
    "    print(id,val)"
   ]
  },
  {
   "cell_type": "code",
   "execution_count": 2,
   "metadata": {},
   "outputs": [
    {
     "name": "stdout",
     "output_type": "stream",
     "text": [
      "1\n",
      "2\n",
      "3\n",
      "4\n"
     ]
    }
   ],
   "source": [
    "states_and_capital={\n",
    "    'A':'1',\n",
    "    'B':'2',\n",
    "    'C':'3',\n",
    "    'D':'4'\n",
    "}\n",
    "for k in states_and_capital:\n",
    "    print(states_and_capital[k])"
   ]
  },
  {
   "cell_type": "code",
   "execution_count": 1,
   "metadata": {},
   "outputs": [
    {
     "name": "stdout",
     "output_type": "stream",
     "text": [
      "['THON 1\\n']\n",
      "10\n"
     ]
    }
   ],
   "source": [
    "names=['PYTHON']\n",
    "grades=[1,4,5,8,7,]\n",
    "    \n",
    "\n",
    "\n",
    "# 1st code\n",
    "fd = open(r\"a.txt\",\"w\")\n",
    "for i in range(1):\n",
    "    record= names[i]+str(\" \")+str(grades[i])+str(\"\\n\")\n",
    "    val =fd.write(record)\n",
    "fd.close()\n",
    "\n",
    "#  2nd code\n",
    "fd = open(r\"a.txt\",\"r\")\n",
    "fd.seek(2)\n",
    "\n",
    "file_data =fd.readlines()\n",
    "print(file_data)\n",
    "print(fd.tell())\n",
    "fd.close()\n"
   ]
  },
  {
   "cell_type": "code",
   "execution_count": 4,
   "metadata": {},
   "outputs": [
    {
     "name": "stdout",
     "output_type": "stream",
     "text": [
      "value: 11250 is int and 30.57\n"
     ]
    }
   ],
   "source": [
    "print(\"value: %2d is int and %5.2f\"%(11250,30.569))"
   ]
  },
  {
   "cell_type": "code",
   "execution_count": 13,
   "metadata": {},
   "outputs": [
    {
     "name": "stdout",
     "output_type": "stream",
     "text": [
      " sum is 30.5  of 20.5 and 10\n"
     ]
    }
   ],
   "source": [
    "a=10\n",
    "b=20.5\n",
    "sum=a+b\n",
    "# print(\"sum of \",a,\" and \",b,\" is \",sum)\n",
    "# print(\"sum of %2d and %2.1f is %2.2f\"%(a,b,sum))\n",
    "\n",
    "print(\" sum is {2}  of {1} and {0}\".format(a,b,sum))"
   ]
  },
  {
   "cell_type": "code",
   "execution_count": 11,
   "metadata": {},
   "outputs": [
    {
     "name": "stdout",
     "output_type": "stream",
     "text": [
      " I love Python for Geek\n"
     ]
    }
   ],
   "source": [
    "print(\" I love {} for {}\".format('Python','Geek'))"
   ]
  },
  {
   "cell_type": "code",
   "execution_count": 28,
   "metadata": {},
   "outputs": [
    {
     "name": "stdout",
     "output_type": "stream",
     "text": [
      "8\n",
      "Hi there\n"
     ]
    }
   ],
   "source": [
    "file_object = open(\"file1.txt\",\"w\")\n",
    "print(file_object.write(\"Hi there\"))\n",
    "file_object.close()\n",
    "\n",
    "file_object = open(\"file1.txt\",\"r\")\n",
    "print(file_object.read())\n",
    "file_object.close()\n"
   ]
  },
  {
   "cell_type": "code",
   "execution_count": 30,
   "metadata": {},
   "outputs": [
    {
     "name": "stdout",
     "output_type": "stream",
     "text": [
      "12\n",
      "Hello Python\n"
     ]
    }
   ],
   "source": [
    "with open(\"file2.csv\",'w') as file_object:\n",
    "    print(file_object.write(\"Hello Python\"))\n",
    "\n",
    "with open(\"file2.txt\",'r') as file_object:\n",
    "    print(file_object.read())\n"
   ]
  },
  {
   "cell_type": "code",
   "execution_count": 29,
   "metadata": {},
   "outputs": [
    {
     "name": "stdout",
     "output_type": "stream",
     "text": [
      "You can purchase\n"
     ]
    },
    {
     "ename": "ZeroDivisionError",
     "evalue": "division by zero",
     "output_type": "error",
     "traceback": [
      "\u001b[1;31m---------------------------------------------------------------------------\u001b[0m",
      "\u001b[1;31mZeroDivisionError\u001b[0m                         Traceback (most recent call last)",
      "Cell \u001b[1;32mIn[29], line 4\u001b[0m\n\u001b[0;32m      2\u001b[0m \u001b[39mif\u001b[39;00m(amt\u001b[39m>\u001b[39m\u001b[39m2999\u001b[39m):\n\u001b[0;32m      3\u001b[0m     \u001b[39mprint\u001b[39m(\u001b[39m\"\u001b[39m\u001b[39mYou can purchase\u001b[39m\u001b[39m\"\u001b[39m)\n\u001b[1;32m----> 4\u001b[0m     a\u001b[39m=\u001b[39mamt\u001b[39m/\u001b[39;49m\u001b[39m0\u001b[39;49m\n\u001b[0;32m      5\u001b[0m     \u001b[39mprint\u001b[39m(a)\n",
      "\u001b[1;31mZeroDivisionError\u001b[0m: division by zero"
     ]
    }
   ],
   "source": [
    "amt=10000\n",
    "if(amt>2999):\n",
    "    print(\"You can purchase\")\n",
    "    a=amt/0\n",
    "    print(a)\n",
    "    "
   ]
  },
  {
   "cell_type": "code",
   "execution_count": 19,
   "metadata": {},
   "outputs": [
    {
     "name": "stdout",
     "output_type": "stream",
     "text": [
      "Index exception raise, \n"
     ]
    }
   ],
   "source": []
  },
  {
   "cell_type": "code",
   "execution_count": 25,
   "metadata": {},
   "outputs": [
    {
     "name": "stdout",
     "output_type": "stream",
     "text": [
      "Empty exception called\n"
     ]
    }
   ],
   "source": [
    "import math\n",
    "def divide(x,y):\n",
    "    a=[1,2,3]\n",
    "    try:\n",
    "        math.sqrt(-10)\n",
    "        print(a[2])\n",
    "        print(\"Am skipped\")\n",
    "        res=x//y\n",
    "        print(\"result: \",x,y, res)\n",
    "        \n",
    "        \n",
    "    except ZeroDivisionError:\n",
    "        result=x//(y+1)\n",
    "        print(\" Result= %f\"%(result))\n",
    "    except IndexError :\n",
    "        print(\"Index exception raise, \")\n",
    "    except:\n",
    "        print(\"Empty exception called\")\n",
    "        \n",
    "        \n",
    "        \n",
    "divide(3,2)    "
   ]
  },
  {
   "cell_type": "code",
   "execution_count": 32,
   "metadata": {},
   "outputs": [],
   "source": [
    "def func():\n",
    "    \n",
    "    try:\n",
    "        file_handler=open(\"ab.txt\",\"w\")\n",
    "        file_handler.write(\"Hello Python\")\n",
    "        \n",
    "        \n",
    "    except:\n",
    "        print(\"Exception raised\")\n",
    "    finally:\n",
    "        file_handler.close()"
   ]
  },
  {
   "cell_type": "code",
   "execution_count": 42,
   "metadata": {},
   "outputs": [
    {
     "name": "stdout",
     "output_type": "stream",
     "text": [
      "finally block\n"
     ]
    }
   ],
   "source": [
    "def func():\n",
    "    \n",
    "    try:\n",
    "        file_handler=open(\"ab1.txt\",\"w\")\n",
    "        file_handler.write(\"Hello Python\")\n",
    "\n",
    "    except:\n",
    "        print(\"Exception raised\")\n",
    "    finally:\n",
    "        print(\"finally block\")\n",
    "        file_handler.close()\n",
    "func()"
   ]
  },
  {
   "cell_type": "code",
   "execution_count": 40,
   "metadata": {},
   "outputs": [],
   "source": [
    "def func():\n",
    "    try:\n",
    "        file_handler=open(\"ab1.txt\",\"w\")\n",
    "        file_handler.write(\"Hello Python1\")\n",
    "        file_handler.close()\n",
    "    except:\n",
    "        print(\"Exception raised\")\n",
    "func()"
   ]
  },
  {
   "cell_type": "code",
   "execution_count": 49,
   "metadata": {},
   "outputs": [
    {
     "name": "stdout",
     "output_type": "stream",
     "text": [
      "handling\n"
     ]
    },
    {
     "ename": "NameError",
     "evalue": "Exception Raised from func 10",
     "output_type": "error",
     "traceback": [
      "\u001b[1;31m---------------------------------------------------------------------------\u001b[0m",
      "\u001b[1;31mNameError\u001b[0m                                 Traceback (most recent call last)",
      "Cell \u001b[1;32mIn[49], line 10\u001b[0m\n\u001b[0;32m      8\u001b[0m         \u001b[39mprint\u001b[39m(\u001b[39m\"\u001b[39m\u001b[39mhandling\u001b[39m\u001b[39m\"\u001b[39m)\n\u001b[0;32m      9\u001b[0m         \u001b[39mraise\u001b[39;00m\n\u001b[1;32m---> 10\u001b[0m func()\n",
      "Cell \u001b[1;32mIn[49], line 6\u001b[0m, in \u001b[0;36mfunc\u001b[1;34m()\u001b[0m\n\u001b[0;32m      4\u001b[0m     \u001b[39mif\u001b[39;00m(a\u001b[39m>\u001b[39m\u001b[39m2\u001b[39m):\n\u001b[0;32m      5\u001b[0m         str1\u001b[39m=\u001b[39m\u001b[39m\"\u001b[39m\u001b[39mException Raised from func \u001b[39m\u001b[39m\"\u001b[39m\u001b[39m+\u001b[39m\u001b[39mstr\u001b[39m(a)\n\u001b[1;32m----> 6\u001b[0m         \u001b[39mraise\u001b[39;00m \u001b[39mNameError\u001b[39;00m(str1)\n\u001b[0;32m      7\u001b[0m \u001b[39mexcept\u001b[39;00m \u001b[39mNameError\u001b[39;00m:\n\u001b[0;32m      8\u001b[0m     \u001b[39mprint\u001b[39m(\u001b[39m\"\u001b[39m\u001b[39mhandling\u001b[39m\u001b[39m\"\u001b[39m)\n",
      "\u001b[1;31mNameError\u001b[0m: Exception Raised from func 10"
     ]
    }
   ],
   "source": [
    "def func():\n",
    "    try:\n",
    "        a=10\n",
    "        if(a>2):\n",
    "            str1=\"Exception Raised from func \"+str(a)\n",
    "            raise NameError(str1)\n",
    "    except NameError:\n",
    "        print(\"handling\")\n",
    "func()"
   ]
  },
  {
   "cell_type": "code",
   "execution_count": 34,
   "metadata": {},
   "outputs": [
    {
     "name": "stdout",
     "output_type": "stream",
     "text": [
      "16.25 Ben Stokes \n",
      "Number of rows: 2\n",
      "Number of rows: 3\n",
      "Number of rows: 4\n",
      "Number of rows: 5\n",
      "Number of rows: 6\n",
      "Number of rows: 7\n",
      "Number of rows: 8\n",
      "Number of rows: 9\n",
      "Number of rows: 10\n",
      "Number of rows: 11\n",
      "Number of rows: 12\n",
      "Number of rows: 13\n",
      "Number of rows: 14\n",
      "Number of rows: 15\n",
      "Number of rows: 16\n",
      "Number of rows: 17\n",
      "Number of rows: 18\n",
      "Number of rows: 19\n",
      "Number of rows: 20\n",
      "Number of rows: 21\n",
      "Number of rows: 22\n",
      "Number of rows: 23\n",
      "Number of rows: 24\n",
      "Number of rows: 25\n",
      "Number of rows: 26\n",
      "Number of rows: 27\n",
      "Number of rows: 28\n",
      "Number of rows: 29\n",
      "Number of rows: 30\n",
      "Number of rows: 31\n",
      "Number of rows: 32\n",
      "Number of rows: 33\n",
      "Number of rows: 34\n",
      "Number of rows: 35\n",
      "Number of rows: 36\n",
      "Number of rows: 37\n",
      "Number of rows: 38\n",
      "Number of rows: 39\n",
      "Number of rows: 40\n",
      "Number of rows: 41\n",
      "Number of rows: 42\n",
      "Number of rows: 43\n",
      "Number of rows: 44\n",
      "Number of rows: 45\n",
      "Number of rows: 46\n",
      "Number of rows: 47\n",
      "Number of rows: 48\n",
      "Number of rows: 49\n",
      "Number of rows: 50\n",
      "Number of rows: 51\n",
      "Number of rows: 52\n",
      "Number of rows: 53\n",
      "Number of rows: 54\n",
      "Number of rows: 55\n",
      "Number of rows: 56\n",
      "Number of rows: 57\n",
      "Number of rows: 58\n",
      "Number of rows: 59\n",
      "Number of rows: 60\n",
      "Number of rows: 61\n",
      "Number of rows: 62\n",
      "Number of rows: 63\n",
      "Number of rows: 64\n",
      "Number of rows: 65\n",
      "Number of rows: 66\n",
      "Number of rows: 67\n",
      "Number of rows: 68\n",
      "Number of rows: 69\n",
      "Number of rows: 70\n",
      "Number of rows: 71\n",
      "Number of rows: 72\n",
      "Number of rows: 73\n",
      "Number of rows: 74\n",
      "Number of rows: 75\n",
      "Number of rows: 76\n",
      "Number of rows: 77\n",
      "Number of rows: 78\n",
      "Number of rows: 79\n",
      "Number of rows: 80\n",
      "Number of rows: 81\n",
      "Number of rows: 82\n",
      "Number of rows: 83\n",
      "Number of rows: 84\n",
      "Number of rows: 85\n",
      "Number of rows: 86\n",
      "Number of rows: 87\n",
      "Number of rows: 88\n",
      "Number of rows: 89\n",
      "Number of rows: 90\n",
      "Number of rows: 91\n",
      "Number of rows: 92\n",
      "Number of rows: 93\n",
      "Number of rows: 94\n",
      "Number of rows: 95\n",
      "Number of rows: 96\n",
      "Number of rows: 97\n",
      "Number of rows: 98\n",
      "17.0 KL Rahul \n",
      "Number of rows: 99\n",
      "Number of rows: 100\n",
      "Number of rows: 101\n",
      "Number of rows: 102\n",
      "Number of rows: 103\n",
      "Number of rows: 104\n",
      "Number of rows: 105\n",
      "Number of rows: 106\n",
      "Number of rows: 107\n",
      "Number of rows: 108\n",
      "Number of rows: 109\n",
      "Number of rows: 110\n",
      "Number of rows: 111\n",
      "Number of rows: 112\n",
      "Number of rows: 113\n",
      "Number of rows: 114\n",
      "Number of rows: 115\n",
      "Number of rows: 116\n",
      "Number of rows: 117\n",
      "Number of rows: 118\n",
      "Number of rows: 119\n",
      "Number of rows: 120\n",
      "Number of rows: 121\n",
      "Number of rows: 122\n",
      "Number of rows: 123\n",
      "17.5 Cameron Green \n",
      "Number of rows: 124\n",
      "Number of rows: 125\n",
      "Number of rows: 126\n",
      "Number of rows: 127\n",
      "Number of rows: 128\n",
      "Number of rows: 129\n",
      "Number of rows: 130\n",
      "Number of rows: 131\n",
      "Number of rows: 132\n",
      "Number of rows: 133\n",
      "Number of rows: 134\n",
      "Number of rows: 135\n",
      "Number of rows: 136\n",
      "Number of rows: 137\n",
      "Number of rows: 138\n",
      "Number of rows: 139\n",
      "Number of rows: 140\n",
      "Number of rows: 141\n",
      "Number of rows: 142\n",
      "Number of rows: 143\n",
      "Number of rows: 144\n",
      "Number of rows: 145\n",
      "Number of rows: 146\n",
      "Number of rows: 147\n",
      "18.5 Sam Curran \n",
      "Number of rows: 148\n",
      "Number of rows: 149\n",
      "Number of rows: 150\n",
      "Number of rows: 151\n",
      "Number of rows: 152\n",
      "Number of rows: 153\n",
      "Number of rows: 154\n",
      "Number of rows: 155\n",
      "Number of rows: 156\n",
      "Number of rows: 157\n",
      "Number of rows: 158\n",
      "Number of rows: 159\n",
      "Number of rows: 160\n",
      "Number of rows: 161\n",
      "Number of rows: 162\n",
      "Number of rows: 163\n",
      "Number of rows: 164\n",
      "Number of rows: 165\n",
      "Number of rows: 166\n",
      "Number of rows: 167\n",
      "Number of rows: 168\n",
      "Number of rows: 169\n",
      "Number of rows: 170\n",
      "Number of rows: 171\n",
      "Number of rows: 172\n",
      "Number of rows: 173\n",
      "Number of rows: 174\n",
      "Number of rows: 175\n",
      "Number of rows: 176\n",
      "Number of rows: 177\n",
      "Number of rows: 178\n",
      "Number of rows: 179\n",
      "Number of rows: 180\n",
      "Number of rows: 181\n",
      "Number of rows: 182\n",
      "Number of rows: 183\n",
      "Number of rows: 184\n",
      "Number of rows: 185\n",
      "Number of rows: 186\n",
      "Number of rows: 187\n",
      "Number of rows: 188\n",
      "Number of rows: 189\n",
      "Number of rows: 190\n",
      "Number of rows: 191\n",
      "Number of rows: 192\n",
      "Number of rows: 193\n",
      "Number of rows: 194\n",
      "Number of rows: 195\n",
      "Number of rows: 196\n",
      "Number of rows: 197\n",
      "Number of rows: 198\n",
      "Number of rows: 199\n",
      "Number of rows: 200\n",
      "Number of rows: 201\n",
      "Number of rows: 202\n",
      "Number of rows: 203\n",
      "Number of rows: 204\n",
      "Number of rows: 205\n",
      "Number of rows: 206\n",
      "Number of rows: 207\n",
      "Number of rows: 208\n",
      "Number of rows: 209\n",
      "Number of rows: 210\n",
      "Number of rows: 211\n",
      "Number of rows: 212\n",
      "Number of rows: 213\n",
      "Number of rows: 214\n",
      "Number of rows: 215\n",
      "Number of rows: 216\n",
      "Number of rows: 217\n",
      "Number of rows: 218\n",
      "Number of rows: 219\n",
      "Number of rows: 220\n",
      "Number of rows: 221\n",
      "Number of rows: 222\n",
      "Number of rows: 223\n",
      "Number of rows: 224\n",
      "Number of rows: 225\n",
      "Number of rows: 226\n",
      "Number of rows: 227\n",
      "Number of rows: 228\n",
      "Number of rows: 229\n",
      "Number of rows: 230\n",
      "Number of rows: 231\n",
      "Number of rows: 232\n",
      "Number of rows: 233\n",
      "Number of rows: 234\n",
      "Number of rows: 235\n",
      "Number of rows: 236\n",
      "Number of rows: 237\n",
      "Number of rows: 238\n",
      "Number of rows: 239\n",
      "Number of rows: 240\n",
      "Number of rows: 241\n",
      "Number of rows: 242\n",
      "Number of rows: 243\n",
      "Number of rows: 244\n"
     ]
    },
    {
     "ename": "ValueError",
     "evalue": "could not convert string to float: ''",
     "output_type": "error",
     "traceback": [
      "\u001b[1;31m---------------------------------------------------------------------------\u001b[0m",
      "\u001b[1;31mValueError\u001b[0m                                Traceback (most recent call last)",
      "Cell \u001b[1;32mIn[34], line 14\u001b[0m\n\u001b[0;32m     12\u001b[0m \u001b[39mif\u001b[39;00m i\u001b[39m==\u001b[39m\u001b[39m1\u001b[39m \u001b[39mand\u001b[39;00m i\u001b[39m<\u001b[39m\u001b[39m240\u001b[39m:\n\u001b[0;32m     13\u001b[0m     \u001b[39mcontinue\u001b[39;00m\n\u001b[1;32m---> 14\u001b[0m \u001b[39mif\u001b[39;00m \u001b[39mfloat\u001b[39m(line[\u001b[39m3\u001b[39m]) \u001b[39m>\u001b[39m\u001b[39m=\u001b[39m \u001b[39mmax\u001b[39m:\n\u001b[0;32m     15\u001b[0m         \u001b[39mmax\u001b[39m\u001b[39m=\u001b[39m\u001b[39mfloat\u001b[39m(line[\u001b[39m3\u001b[39m])\n\u001b[0;32m     16\u001b[0m         \u001b[39mprint\u001b[39m(\u001b[39mmax\u001b[39m, line[\u001b[39m1\u001b[39m]) \u001b[39m#0th index item of every line in data object\u001b[39;00m\n",
      "\u001b[1;31mValueError\u001b[0m: could not convert string to float: ''"
     ]
    }
   ],
   "source": [
    "import csv\n",
    "\n",
    "i=0\n",
    "max=1\n",
    "with open(\"C:/Users/Keonics/Desktop/Practice/ipl_2023_dataset.csv\",\"r\") as file_object:\n",
    "\n",
    "    data = csv.reader(file_object) # it will read the data from csv file store in data\n",
    "    \n",
    "    for line in data:   # reads from iterable data object and puts each line in line object for  every loop\n",
    "        i=i+1\n",
    "        \n",
    "        if i==1 and i<240:\n",
    "            continue\n",
    "        if float(line[3]) >= max:\n",
    "                max=float(line[3])\n",
    "                print(max, line[1]) #0th index item of every line in data object\n",
    "        print(\"Number of rows:\",data.line_num)"
   ]
  },
  {
   "cell_type": "code",
   "execution_count": 31,
   "metadata": {},
   "outputs": [
    {
     "name": "stdout",
     "output_type": "stream",
     "text": [
      "15\n",
      "11\n",
      "10.75\n",
      "10.75\n",
      "7.75\n",
      "7\n",
      "7\n",
      "5.5\n",
      "3.4\n",
      "3.2\n",
      "2.4\n",
      "2\n",
      "1.9\n",
      "0.95\n",
      "0.8\n",
      "0.75\n",
      "0.7\n",
      "0.6\n",
      "0.5\n",
      "0.3\n",
      "0.2\n",
      "0.2\n",
      "0.2\n",
      "0.2\n",
      "0.2\n"
     ]
    }
   ],
   "source": [
    "import csv\n",
    "\n",
    "with open(\"C:/Users/Keonics/Desktop/Practice/ipl_2023_dataset.csv\",\"r\") as file_object:\n",
    "    data_table= csv.DictReader(file_object)\n",
    "    \n",
    "    for line in data_table:\n",
    "        if line[\"Team\"] == \"Royal Challengers Bangalore\":\n",
    "            print(line[\"Price Cr\"])"
   ]
  },
  {
   "cell_type": "code",
   "execution_count": 37,
   "metadata": {},
   "outputs": [
    {
     "name": "stdout",
     "output_type": "stream",
     "text": [
      "['Name', 'Branch', 'Year', 'CGPA']\n",
      "[]\n",
      "['A', 'CS', 'Final Year', '8.0']\n",
      "[]\n",
      "['B', 'CS', 'Final Year', '8.0']\n",
      "[]\n",
      "['C', 'CS', 'Final Year', '8.0']\n",
      "[]\n",
      "['D', 'CS', 'Final Year', '8.0']\n",
      "[]\n",
      "['E', 'CS', 'Final Year', '8.0']\n",
      "[]\n"
     ]
    }
   ],
   "source": [
    "import csv\n",
    "\n",
    "field =['Name','Branch','Year','CGPA']\n",
    "rows=[['A','CS','Final Year',8.0],\n",
    "      ['B','CS','Final Year',8.0],\n",
    "      ['C','CS','Final Year',8.0],\n",
    "      ['D','CS','Final Year',8.0],\n",
    "      ['E','CS','Final Year',8.0]\n",
    "]\n",
    "\n",
    "filename='keonics.csv'\n",
    "\n",
    "with open(filename,'w') as csvfile:\n",
    "    writer_object= csv.writer(csvfile)\n",
    "    writer_object.writerow(field)\n",
    "    writer_object.writerows(rows)\n",
    "\n",
    "\n",
    "with open(filename,'r') as csvfile:\n",
    "      data=csv.reader(csvfile)\n",
    "      for line in data:\n",
    "            print(line)"
   ]
  }
 ],
 "metadata": {
  "kernelspec": {
   "display_name": "Python 3",
   "language": "python",
   "name": "python3"
  },
  "language_info": {
   "codemirror_mode": {
    "name": "ipython",
    "version": 3
   },
   "file_extension": ".py",
   "mimetype": "text/x-python",
   "name": "python",
   "nbconvert_exporter": "python",
   "pygments_lexer": "ipython3",
   "version": "3.11.2"
  },
  "orig_nbformat": 4
 },
 "nbformat": 4,
 "nbformat_minor": 2
}
