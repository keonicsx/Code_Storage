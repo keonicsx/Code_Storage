{
 "cells": [
  {
   "attachments": {},
   "cell_type": "markdown",
   "metadata": {},
   "source": [
    "Functions"
   ]
  },
  {
   "cell_type": "code",
   "execution_count": 34,
   "metadata": {},
   "outputs": [
    {
     "name": "stdout",
     "output_type": "stream",
     "text": [
      "first == Geeks\n",
      "mid == for\n",
      "last == Geeks\n"
     ]
    }
   ],
   "source": [
    " \n",
    "def myFun(**kwargs):\n",
    "    for key, value in kwargs.items():\n",
    "        print(\"%s == %s\" % (key, value))\n",
    " \n",
    " \n",
    "# Driver code\n",
    "myFun(first='Geeks', mid='for', last='Geeks')"
   ]
  },
  {
   "attachments": {},
   "cell_type": "markdown",
   "metadata": {},
   "source": [
    "function inside function"
   ]
  },
  {
   "cell_type": "code",
   "execution_count": 35,
   "metadata": {},
   "outputs": [
    {
     "name": "stdout",
     "output_type": "stream",
     "text": [
      "Hello Python\n"
     ]
    }
   ],
   "source": [
    "out='Python'\n",
    "\n",
    "def f1():\n",
    "    s1='Hello'\n",
    "    def f2():\n",
    "        print(s1,out)\n",
    "    f2()\n",
    "f1()"
   ]
  },
  {
   "cell_type": "code",
   "execution_count": 36,
   "metadata": {},
   "outputs": [
    {
     "name": "stdout",
     "output_type": "stream",
     "text": [
      " lorem ipsum dolor sit\n",
      "    amet, consectetur\n",
      "    adipis\n",
      "......................\n",
      "<function my_function at 0x000001DE78F39EE0>\n"
     ]
    }
   ],
   "source": [
    "def my_function():\n",
    "    ''' lorem ipsum dolor sit\n",
    "    amet, consectetur\n",
    "    adipis'''\n",
    "    return None\n",
    "\n",
    "print(my_function.__doc__)\n",
    "print('......................')\n",
    "print(my_function)"
   ]
  },
  {
   "cell_type": "code",
   "execution_count": 37,
   "metadata": {},
   "outputs": [
    {
     "name": "stdout",
     "output_type": "stream",
     "text": [
      "8\n"
     ]
    }
   ],
   "source": [
    "def cube_function(n):\n",
    "    ans = n*n*n\n",
    "    return ans\n",
    "\n",
    "print(cube_function(2))\n"
   ]
  },
  {
   "cell_type": "code",
   "execution_count": 38,
   "metadata": {},
   "outputs": [
    {
     "ename": "SyntaxError",
     "evalue": "invalid syntax (2569178938.py, line 1)",
     "output_type": "error",
     "traceback": [
      "\u001b[1;36m  Cell \u001b[1;32mIn[38], line 1\u001b[1;36m\u001b[0m\n\u001b[1;33m    var = lambda a:\u001b[0m\n\u001b[1;37m                    ^\u001b[0m\n\u001b[1;31mSyntaxError\u001b[0m\u001b[1;31m:\u001b[0m invalid syntax\n"
     ]
    }
   ],
   "source": [
    "var = lambda a: \n",
    "print(var(2))\n",
    "\n",
    "def add(a):\n",
    "    a+10\n",
    "    a-10\n",
    "    return a+10\n",
    "print(add(2))"
   ]
  },
  {
   "cell_type": "code",
   "execution_count": null,
   "metadata": {},
   "outputs": [
    {
     "name": "stdout",
     "output_type": "stream",
     "text": [
      "4\n",
      "64\n",
      "From User def: 5\n"
     ]
    }
   ],
   "source": [
    "var1=lambda n: n*n\n",
    "var2=lambda n: n*n*n\n",
    "\n",
    "ans= var1(2)\n",
    "print(ans)\n",
    "print(var2(ans))\n",
    "\n",
    "def call_func():\n",
    "    ans = var1(2) + 1\n",
    "    print(\"From User def:\",ans)\n",
    "\n",
    "call_func()"
   ]
  },
  {
   "cell_type": "code",
   "execution_count": null,
   "metadata": {},
   "outputs": [
    {
     "data": {
      "text/plain": [
       "False"
      ]
     },
     "execution_count": 25,
     "metadata": {},
     "output_type": "execute_result"
    }
   ],
   "source": [
    "#program to find odd and even\n",
    "ans = lambda num: True if num%2 == 0 else False\n",
    "\n",
    "ans(3)\n"
   ]
  },
  {
   "cell_type": "code",
   "execution_count": null,
   "metadata": {},
   "outputs": [
    {
     "name": "stdout",
     "output_type": "stream",
     "text": [
      "Hi there am from python program\n",
      "Hi All\n"
     ]
    }
   ],
   "source": [
    "# file1= open(\"new_file.txt\",\"w\")\n",
    "# file1.write(\"Hi there am from python program\")\n",
    "# file1.close()\n",
    "\n",
    "file1= open(\"new_file.txt\",\"r\")\n",
    "print(file1.read())\n",
    "file1.close()\n",
    "\n",
    "\n"
   ]
  },
  {
   "cell_type": "code",
   "execution_count": null,
   "metadata": {},
   "outputs": [
    {
     "name": "stdout",
     "output_type": "stream",
     "text": [
      "3\n",
      "4\n"
     ]
    }
   ],
   "source": [
    "list1=[1,2,3,4]\n",
    "\n",
    "iterator_obj=iter(list1)\n",
    "next(iterator_obj)\n",
    "next(iterator_obj)\n",
    "print(next(iterator_obj))\n",
    "print(next(iterator_obj))\n"
   ]
  },
  {
   "cell_type": "code",
   "execution_count": null,
   "metadata": {},
   "outputs": [
    {
     "data": {
      "text/plain": [
       "'P'"
      ]
     },
     "execution_count": 11,
     "metadata": {},
     "output_type": "execute_result"
    }
   ],
   "source": [
    "string1=\"Python\"\n",
    "Iter1=iter(string1)\n",
    "next(Iter1)"
   ]
  },
  {
   "cell_type": "code",
   "execution_count": null,
   "metadata": {},
   "outputs": [
    {
     "name": "stdout",
     "output_type": "stream",
     "text": [
      "100\n"
     ]
    }
   ],
   "source": [
    "def gen():\n",
    "    for i in range(0,20):\n",
    "        if i % 2 != 0:\n",
    "            yield i\n",
    "\n",
    "def sum():\n",
    "    s=0\n",
    "    for val in gen():\n",
    "        s = s + val\n",
    "    print(s)\n",
    "sum()"
   ]
  },
  {
   "cell_type": "code",
   "execution_count": 62,
   "metadata": {},
   "outputs": [
    {
     "data": {
      "text/plain": [
       "1"
      ]
     },
     "execution_count": 62,
     "metadata": {},
     "output_type": "execute_result"
    }
   ],
   "source": [
    "list=[10,'y',100,20]\n",
    "list.index('y')"
   ]
  },
  {
   "cell_type": "code",
   "execution_count": 63,
   "metadata": {},
   "outputs": [
    {
     "data": {
      "text/plain": [
       "[10, 'y', 100, 35, 20]"
      ]
     },
     "execution_count": 63,
     "metadata": {},
     "output_type": "execute_result"
    }
   ],
   "source": [
    "list.insert(3,35)\n",
    "list"
   ]
  },
  {
   "cell_type": "code",
   "execution_count": 64,
   "metadata": {},
   "outputs": [
    {
     "data": {
      "text/plain": [
       "20"
      ]
     },
     "execution_count": 64,
     "metadata": {},
     "output_type": "execute_result"
    }
   ],
   "source": [
    "list.pop()"
   ]
  },
  {
   "cell_type": "code",
   "execution_count": 65,
   "metadata": {},
   "outputs": [
    {
     "data": {
      "text/plain": [
       "[10, 'y', 100, 35]"
      ]
     },
     "execution_count": 65,
     "metadata": {},
     "output_type": "execute_result"
    }
   ],
   "source": [
    "list"
   ]
  },
  {
   "cell_type": "code",
   "execution_count": 66,
   "metadata": {},
   "outputs": [
    {
     "data": {
      "text/plain": [
       "[10, 'y', 100]"
      ]
     },
     "execution_count": 66,
     "metadata": {},
     "output_type": "execute_result"
    }
   ],
   "source": [
    "list.remove(35)\n",
    "list"
   ]
  },
  {
   "cell_type": "code",
   "execution_count": 67,
   "metadata": {},
   "outputs": [
    {
     "data": {
      "text/plain": [
       "[100, 'y', 10]"
      ]
     },
     "execution_count": 67,
     "metadata": {},
     "output_type": "execute_result"
    }
   ],
   "source": [
    "list.reverse()\n",
    "list"
   ]
  },
  {
   "cell_type": "code",
   "execution_count": 68,
   "metadata": {},
   "outputs": [
    {
     "data": {
      "text/plain": [
       "[100, 'y', 10]"
      ]
     },
     "execution_count": 68,
     "metadata": {},
     "output_type": "execute_result"
    }
   ],
   "source": [
    "list"
   ]
  },
  {
   "cell_type": "code",
   "execution_count": 2,
   "metadata": {},
   "outputs": [
    {
     "data": {
      "text/plain": [
       "[10, 9, 8, 7, 6, 5, 3, 1]"
      ]
     },
     "execution_count": 2,
     "metadata": {},
     "output_type": "execute_result"
    }
   ],
   "source": [
    "list=[5,8,6,9,7,1,10,3]\n",
    "list.sort(reverse=True)\n",
    "list"
   ]
  },
  {
   "cell_type": "code",
   "execution_count": null,
   "metadata": {},
   "outputs": [],
   "source": []
  },
  {
   "cell_type": "code",
   "execution_count": 73,
   "metadata": {},
   "outputs": [
    {
     "data": {
      "text/plain": [
       "[10, 9, 8, 7, 6, 5, 3, 1]"
      ]
     },
     "execution_count": 73,
     "metadata": {},
     "output_type": "execute_result"
    }
   ],
   "source": [
    "list=[5,8,6,9,7,1,10,3]\n",
    "list.sort()\n",
    "list.reverse()\n",
    "list"
   ]
  },
  {
   "cell_type": "code",
   "execution_count": 75,
   "metadata": {},
   "outputs": [
    {
     "data": {
      "text/plain": [
       "[[1], [3], [5]]"
      ]
     },
     "execution_count": 75,
     "metadata": {},
     "output_type": "execute_result"
    }
   ],
   "source": [
    "list1 = [[i+1] for i in range(5) if i % 2 ==0 ]\n",
    "list1"
   ]
  },
  {
   "cell_type": "code",
   "execution_count": 5,
   "metadata": {},
   "outputs": [
    {
     "name": "stdout",
     "output_type": "stream",
     "text": [
      "[1, 3, 5, 7, 9, 11, 13, 15, 17, 19, 21, 23, 25, 27, 29, 31, 33, 35, 37, 39, 41, 43, 45, 47, 49, 51, 53, 55, 57, 59, 61, 63, 65, 67, 69, 71, 73, 75, 77, 79, 81, 83, 85, 87, 89, 91, 93, 95, 97, 99]\n"
     ]
    }
   ],
   "source": [
    "odd_list=[]\n",
    "for i in range(100):\n",
    "      if i % 2 != 0:\n",
    "        odd_list.append(i)\n",
    "print(odd_list)"
   ]
  },
  {
   "cell_type": "code",
   "execution_count": 20,
   "metadata": {},
   "outputs": [
    {
     "name": "stdout",
     "output_type": "stream",
     "text": [
      "['BANANA', 'MANGO', 'GRAPES', 'WATERMELON']\n"
     ]
    }
   ],
   "source": [
    "fruits =['Ornge','Banana','Mango','Grapes','Watermelon']\n",
    "fruit_list= [i.upper() for i in fruits if i.find(\"a\") != -1 ]\n",
    "print(fruit_list)\n"
   ]
  },
  {
   "cell_type": "code",
   "execution_count": 1,
   "metadata": {},
   "outputs": [
    {
     "data": {
      "text/plain": [
       "[[1, 3, 5, 7, 9, 11, 13, 15, 17, 19, 21, 23, 25, 27, 29, 31],\n",
       " [1, 3, 5, 7, 9, 11, 13, 15, 17, 19, 21, 23, 25, 27, 29, 31],\n",
       " [1, 3, 5, 7, 9, 11, 13, 15, 17, 19, 21, 23, 25, 27, 29, 31],\n",
       " [1, 3, 5, 7, 9, 11, 13, 15, 17, 19, 21, 23, 25, 27, 29, 31],\n",
       " [1, 3, 5, 7, 9, 11, 13, 15, 17, 19, 21, 23, 25, 27, 29, 31],\n",
       " [1, 3, 5, 7, 9, 11, 13, 15, 17, 19, 21, 23, 25, 27, 29, 31],\n",
       " [1, 3, 5, 7, 9, 11, 13, 15, 17, 19, 21, 23, 25, 27, 29, 31],\n",
       " [1, 3, 5, 7, 9, 11, 13, 15, 17, 19, 21, 23, 25, 27, 29, 31],\n",
       " [1, 3, 5, 7, 9, 11, 13, 15, 17, 19, 21, 23, 25, 27, 29, 31],\n",
       " [1, 3, 5, 7, 9, 11, 13, 15, 17, 19, 21, 23, 25, 27, 29, 31],\n",
       " [1, 3, 5, 7, 9, 11, 13, 15, 17, 19, 21, 23, 25, 27, 29, 31],\n",
       " [1, 3, 5, 7, 9, 11, 13, 15, 17, 19, 21, 23, 25, 27, 29, 31],\n",
       " [1, 3, 5, 7, 9, 11, 13, 15, 17, 19, 21, 23, 25, 27, 29, 31],\n",
       " [1, 3, 5, 7, 9, 11, 13, 15, 17, 19, 21, 23, 25, 27, 29, 31],\n",
       " [1, 3, 5, 7, 9, 11, 13, 15, 17, 19, 21, 23, 25, 27, 29, 31],\n",
       " [1, 3, 5, 7, 9, 11, 13, 15, 17, 19, 21, 23, 25, 27, 29, 31]]"
      ]
     },
     "execution_count": 1,
     "metadata": {},
     "output_type": "execute_result"
    }
   ],
   "source": [
    "list=[[i for i in range(32) if i%2 != 0] for j in range(16)]\n",
    "list\n",
    "\n",
    "l1=[j for j in range(4)]"
   ]
  },
  {
   "cell_type": "code",
   "execution_count": 7,
   "metadata": {},
   "outputs": [
    {
     "data": {
      "text/plain": [
       "[[1, 3, 5, 7, 9, 11, 13, 15, 17, 19, 21, 23, 25, 27, 29, 31],\n",
       " [1, 3, 5, 7, 9, 11, 13, 15, 17, 19, 21, 23, 25, 27, 29, 31],\n",
       " [1, 3, 5, 7, 9, 11, 13, 15, 17, 19, 21, 23, 25, 27, 29, 31],\n",
       " [1, 3, 5, 7, 9, 11, 13, 15, 17, 19, 21, 23, 25, 27, 29, 31],\n",
       " [1, 3, 5, 7, 9, 11, 13, 15, 17, 19, 21, 23, 25, 27, 29, 31],\n",
       " [1, 3, 5, 7, 9, 11, 13, 15, 17, 19, 21, 23, 25, 27, 29, 31],\n",
       " [1, 3, 5, 7, 9, 11, 13, 15, 17, 19, 21, 23, 25, 27, 29, 31],\n",
       " [1, 3, 5, 7, 9, 11, 13, 15, 17, 19, 21, 23, 25, 27, 29, 31],\n",
       " [1, 3, 5, 7, 9, 11, 13, 15, 17, 19, 21, 23, 25, 27, 29, 31],\n",
       " [1, 3, 5, 7, 9, 11, 13, 15, 17, 19, 21, 23, 25, 27, 29, 31],\n",
       " [1, 3, 5, 7, 9, 11, 13, 15, 17, 19, 21, 23, 25, 27, 29, 31],\n",
       " [1, 3, 5, 7, 9, 11, 13, 15, 17, 19, 21, 23, 25, 27, 29, 31],\n",
       " [1, 3, 5, 7, 9, 11, 13, 15, 17, 19, 21, 23, 25, 27, 29, 31],\n",
       " [1, 3, 5, 7, 9, 11, 13, 15, 17, 19, 21, 23, 25, 27, 29, 31],\n",
       " [1, 3, 5, 7, 9, 11, 13, 15, 17, 19, 21, 23, 25, 27, 29, 31],\n",
       " [1, 3, 5, 7, 9, 11, 13, 15, 17, 19, 21, 23, 25, 27, 29, 31]]"
      ]
     },
     "execution_count": 7,
     "metadata": {},
     "output_type": "execute_result"
    }
   ],
   "source": [
    "mat=[]\n",
    "for i in range(16):\n",
    "    mat.append([])\n",
    "    for j in range(16):\n",
    "        j=2*j+1\n",
    "        mat[i].append(j)\n",
    "mat"
   ]
  },
  {
   "cell_type": "code",
   "execution_count": 15,
   "metadata": {},
   "outputs": [
    {
     "data": {
      "text/plain": [
       "(1, [2, 3, 4], (5, 6))"
      ]
     },
     "execution_count": 15,
     "metadata": {},
     "output_type": "execute_result"
    }
   ],
   "source": [
    "t1= (1,[2,3],(5,6))\n",
    "t2= ()\n",
    "t1[1].append(4)\n",
    "t1"
   ]
  },
  {
   "cell_type": "code",
   "execution_count": 28,
   "metadata": {},
   "outputs": [
    {
     "name": "stdout",
     "output_type": "stream",
     "text": [
      "64\n",
      "28\n"
     ]
    }
   ],
   "source": [
    "import sys\n",
    "\n",
    "list1=[1]\n",
    "tuple1=(1)\n",
    "print(sys.getsizeof(list1))\n",
    "print(sys.getsizeof(tuple1))"
   ]
  },
  {
   "cell_type": "code",
   "execution_count": 31,
   "metadata": {},
   "outputs": [
    {
     "name": "stdout",
     "output_type": "stream",
     "text": [
      "<class 'dict'>\n"
     ]
    }
   ],
   "source": [
    "d1={\"3\":1}\n",
    "print(type(d1))"
   ]
  },
  {
   "cell_type": "code",
   "execution_count": 54,
   "metadata": {},
   "outputs": [
    {
     "name": "stdout",
     "output_type": "stream",
     "text": [
      "{'A', 'B', 'D', 'C'}\n",
      "{'A', 'B', 'D', 'C'}\n"
     ]
    }
   ],
   "source": [
    "people ={\"A\",\"B\",\"C\",\"D\"}\n",
    "print(people)\n",
    "\n",
    "people.add(\"D\")\n",
    "print(people)\n"
   ]
  },
  {
   "cell_type": "code",
   "execution_count": 55,
   "metadata": {},
   "outputs": [
    {
     "data": {
      "text/plain": [
       "{'A', 'B', 'C', 'D', 'E', 'F', 'G', 'H', 'I'}"
      ]
     },
     "execution_count": 55,
     "metadata": {},
     "output_type": "execute_result"
    }
   ],
   "source": [
    "people ={'A','B','C','D'}\n",
    "vampire={'E','F','G','H','I'}\n",
    "dracula={'J','K','L','M','N'}\n",
    "\n",
    "population= people.union(vampire)\n",
    "population"
   ]
  },
  {
   "cell_type": "code",
   "execution_count": 62,
   "metadata": {},
   "outputs": [
    {
     "data": {
      "text/plain": [
       "{0, 1, 2, 3, 4, 5, 6, 7, 8}"
      ]
     },
     "execution_count": 62,
     "metadata": {},
     "output_type": "execute_result"
    }
   ],
   "source": [
    "set1=set()\n",
    "set2=set()\n",
    "\n",
    "for i in range(5):\n",
    "    set1.add(i)\n",
    "for i in range(3,9):\n",
    "    set2.add(i)\n",
    "\n",
    "set3=set2|set1\n",
    "set3"
   ]
  },
  {
   "cell_type": "code",
   "execution_count": 64,
   "metadata": {},
   "outputs": [
    {
     "name": "stdout",
     "output_type": "stream",
     "text": [
      "{0, 1, 2, 3, 4}\n",
      "set()\n"
     ]
    }
   ],
   "source": [
    "set1=set()\n",
    "for i in range(5):\n",
    "    set1.add(i)\n",
    "print(set1)\n",
    "\n",
    "set1.clear()\n",
    "print(set1)\n"
   ]
  },
  {
   "attachments": {},
   "cell_type": "markdown",
   "metadata": {},
   "source": [
    "Dictionary"
   ]
  },
  {
   "cell_type": "code",
   "execution_count": 7,
   "metadata": {},
   "outputs": [
    {
     "name": "stdout",
     "output_type": "stream",
     "text": [
      "Python\n"
     ]
    }
   ],
   "source": [
    "d={\"Programming\":{1:\"Python\",2:\"C\",3:\"C++\",4:\"Java\"},0:\"Zero value\"}\n",
    "print(d[\"Programming\"][1])"
   ]
  },
  {
   "cell_type": "code",
   "execution_count": 16,
   "metadata": {},
   "outputs": [
    {
     "data": {
      "text/plain": [
       "{0: 'Hello',\n",
       " 1: 1,\n",
       " 2: 4,\n",
       " 3: 9,\n",
       " 4: 16,\n",
       " 5: 'Hi',\n",
       " 6: 36,\n",
       " 7: 49,\n",
       " 8: 64,\n",
       " 9: 81,\n",
       " 10: {'numbers': {1, 2, 3, 4, 5, 6, 7, 8}}}"
      ]
     },
     "execution_count": 16,
     "metadata": {},
     "output_type": "execute_result"
    }
   ],
   "source": [
    "d={}\n",
    "for i in range(10):\n",
    "    d[i]= i*i\n",
    "d[10]={\"numbers\":{1,2,3,4,5,6,7,8}}\n",
    "d.update({5:\"Hi\",0:\"Hello\"})\n",
    "d"
   ]
  },
  {
   "cell_type": "code",
   "execution_count": 22,
   "metadata": {},
   "outputs": [
    {
     "name": "stdout",
     "output_type": "stream",
     "text": [
      "A\n"
     ]
    }
   ],
   "source": [
    "d={\"Programming\":\"Python\",0:\"Zero value\",\"A\":\"B\"}\n",
    "j=0\n",
    "for i in d:\n",
    "    if j==2:\n",
    "        print(i)\n",
    "    j=j+1"
   ]
  },
  {
   "cell_type": "code",
   "execution_count": 26,
   "metadata": {},
   "outputs": [
    {
     "name": "stdout",
     "output_type": "stream",
     "text": [
      "The newly created dict with list values : {'c': [2, 3], 'e': [2, 3], 'b': [2, 3], 'a': [2, 3], 'd': [2, 3]}\n",
      "The newly created dict with list values : {'c': [2, 3, 4, 5, 6], 'e': [2, 3, 4, 5, 6], 'b': [2, 3, 4, 5, 6], 'a': [2, 3, 4, 5, 6], 'd': [2, 3, 4, 5, 6]}\n"
     ]
    }
   ],
   "source": [
    "seq = {'a', 'b', 'c', 'd', 'e'}\n",
    "lis1 = [2, 3]\n",
    " \n",
    "res_dict = dict.fromkeys(seq, lis1)\n",
    "print(\"The newly created dict with list values : \"      + str(res_dict))\n",
    " \n",
    "\n",
    "lis1 = [2, 3, 4,5,6]\n",
    "\n",
    "res_dict2 = {key: list(lis1) for key in seq}\n",
    "\n",
    "print(\"The newly created dict with list values : \"      + str(res_dict2))"
   ]
  },
  {
   "attachments": {},
   "cell_type": "markdown",
   "metadata": {},
   "source": []
  },
  {
   "cell_type": "code",
   "execution_count": 28,
   "metadata": {},
   "outputs": [
    {
     "name": "stdout",
     "output_type": "stream",
     "text": [
      "y\n",
      "o\n",
      "p\n",
      "h\n",
      "n\n",
      "t\n",
      "0 y\n",
      "1 o\n",
      "2 p\n",
      "3 h\n",
      "4 n\n",
      "5 t\n"
     ]
    }
   ],
   "source": [
    "set1=set(\"python\")\n",
    "\n",
    "for i in set1:\n",
    "    print(i)\n",
    "\n",
    "for id,val in enumerate(set1):\n",
    "    print(id,val)"
   ]
  },
  {
   "cell_type": "code",
   "execution_count": 2,
   "metadata": {},
   "outputs": [
    {
     "name": "stdout",
     "output_type": "stream",
     "text": [
      "1\n",
      "2\n",
      "3\n",
      "4\n"
     ]
    }
   ],
   "source": [
    "states_and_capital={\n",
    "    'A':'1',\n",
    "    'B':'2',\n",
    "    'C':'3',\n",
    "    'D':'4'\n",
    "}\n",
    "for k in states_and_capital:\n",
    "    print(states_and_capital[k])"
   ]
  },
  {
   "cell_type": "code",
   "execution_count": 1,
   "metadata": {},
   "outputs": [
    {
     "name": "stdout",
     "output_type": "stream",
     "text": [
      "['THON 1\\n']\n",
      "10\n"
     ]
    }
   ],
   "source": [
    "names=['PYTHON']\n",
    "grades=[1,4,5,8,7,]\n",
    "    \n",
    "\n",
    "\n",
    "# 1st code\n",
    "fd = open(r\"a.txt\",\"w\")\n",
    "for i in range(1):\n",
    "    record= names[i]+str(\" \")+str(grades[i])+str(\"\\n\")\n",
    "    val =fd.write(record)\n",
    "fd.close()\n",
    "\n",
    "#  2nd code\n",
    "fd = open(r\"a.txt\",\"r\")\n",
    "fd.seek(2)\n",
    "\n",
    "file_data =fd.readlines()\n",
    "print(file_data)\n",
    "print(fd.tell())\n",
    "fd.close()\n"
   ]
  },
  {
   "cell_type": "code",
   "execution_count": 4,
   "metadata": {},
   "outputs": [
    {
     "name": "stdout",
     "output_type": "stream",
     "text": [
      "value: 11250 is int and 30.57\n"
     ]
    }
   ],
   "source": [
    "print(\"value: %2d is int and %5.2f\"%(11250,30.569))"
   ]
  },
  {
   "cell_type": "code",
   "execution_count": 13,
   "metadata": {},
   "outputs": [
    {
     "name": "stdout",
     "output_type": "stream",
     "text": [
      " sum is 30.5  of 20.5 and 10\n"
     ]
    }
   ],
   "source": [
    "a=10\n",
    "b=20.5\n",
    "sum=a+b\n",
    "# print(\"sum of \",a,\" and \",b,\" is \",sum)\n",
    "# print(\"sum of %2d and %2.1f is %2.2f\"%(a,b,sum))\n",
    "\n",
    "print(\" sum is {2}  of {1} and {0}\".format(a,b,sum))"
   ]
  },
  {
   "cell_type": "code",
   "execution_count": 11,
   "metadata": {},
   "outputs": [
    {
     "name": "stdout",
     "output_type": "stream",
     "text": [
      " I love Python for Geek\n"
     ]
    }
   ],
   "source": [
    "print(\" I love {} for {}\".format('Python','Geek'))"
   ]
  },
  {
   "cell_type": "code",
   "execution_count": 28,
   "metadata": {},
   "outputs": [
    {
     "name": "stdout",
     "output_type": "stream",
     "text": [
      "8\n",
      "Hi there\n"
     ]
    }
   ],
   "source": [
    "file_object = open(\"file1.txt\",\"w\")\n",
    "print(file_object.write(\"Hi there\"))\n",
    "file_object.close()\n",
    "\n",
    "file_object = open(\"file1.txt\",\"r\")\n",
    "print(file_object.read())\n",
    "file_object.close()\n"
   ]
  },
  {
   "cell_type": "code",
   "execution_count": 30,
   "metadata": {},
   "outputs": [
    {
     "name": "stdout",
     "output_type": "stream",
     "text": [
      "12\n",
      "Hello Python\n"
     ]
    }
   ],
   "source": [
    "with open(\"file2.csv\",'w') as file_object:\n",
    "    print(file_object.write(\"Hello Python\"))\n",
    "\n",
    "with open(\"file2.txt\",'r') as file_object:\n",
    "    print(file_object.read())\n"
   ]
  },
  {
   "cell_type": "code",
   "execution_count": 29,
   "metadata": {},
   "outputs": [
    {
     "name": "stdout",
     "output_type": "stream",
     "text": [
      "You can purchase\n"
     ]
    },
    {
     "ename": "ZeroDivisionError",
     "evalue": "division by zero",
     "output_type": "error",
     "traceback": [
      "\u001b[1;31m---------------------------------------------------------------------------\u001b[0m",
      "\u001b[1;31mZeroDivisionError\u001b[0m                         Traceback (most recent call last)",
      "Cell \u001b[1;32mIn[29], line 4\u001b[0m\n\u001b[0;32m      2\u001b[0m \u001b[39mif\u001b[39;00m(amt\u001b[39m>\u001b[39m\u001b[39m2999\u001b[39m):\n\u001b[0;32m      3\u001b[0m     \u001b[39mprint\u001b[39m(\u001b[39m\"\u001b[39m\u001b[39mYou can purchase\u001b[39m\u001b[39m\"\u001b[39m)\n\u001b[1;32m----> 4\u001b[0m     a\u001b[39m=\u001b[39mamt\u001b[39m/\u001b[39;49m\u001b[39m0\u001b[39;49m\n\u001b[0;32m      5\u001b[0m     \u001b[39mprint\u001b[39m(a)\n",
      "\u001b[1;31mZeroDivisionError\u001b[0m: division by zero"
     ]
    }
   ],
   "source": [
    "amt=10000\n",
    "if(amt>2999):\n",
    "    print(\"You can purchase\")\n",
    "    a=amt/0\n",
    "    print(a)\n",
    "    "
   ]
  },
  {
   "cell_type": "code",
   "execution_count": 19,
   "metadata": {},
   "outputs": [
    {
     "name": "stdout",
     "output_type": "stream",
     "text": [
      "Index exception raise, \n"
     ]
    }
   ],
   "source": []
  },
  {
   "cell_type": "code",
   "execution_count": 25,
   "metadata": {},
   "outputs": [
    {
     "name": "stdout",
     "output_type": "stream",
     "text": [
      "Empty exception called\n"
     ]
    }
   ],
   "source": [
    "import math\n",
    "def divide(x,y):\n",
    "    a=[1,2,3]\n",
    "    try:\n",
    "        math.sqrt(-10)\n",
    "        print(a[2])\n",
    "        print(\"Am skipped\")\n",
    "        res=x//y\n",
    "        print(\"result: \",x,y, res)\n",
    "        \n",
    "        \n",
    "    except ZeroDivisionError:\n",
    "        result=x//(y+1)\n",
    "        print(\" Result= %f\"%(result))\n",
    "    except IndexError :\n",
    "        print(\"Index exception raise, \")\n",
    "    except:\n",
    "        print(\"Empty exception called\")\n",
    "        \n",
    "        \n",
    "        \n",
    "divide(3,2)    "
   ]
  },
  {
   "cell_type": "code",
   "execution_count": 32,
   "metadata": {},
   "outputs": [],
   "source": [
    "def func():\n",
    "    \n",
    "    try:\n",
    "        file_handler=open(\"ab.txt\",\"w\")\n",
    "        file_handler.write(\"Hello Python\")\n",
    "        \n",
    "        \n",
    "    except:\n",
    "        print(\"Exception raised\")\n",
    "    finally:\n",
    "        file_handler.close()"
   ]
  },
  {
   "cell_type": "code",
   "execution_count": 42,
   "metadata": {},
   "outputs": [
    {
     "name": "stdout",
     "output_type": "stream",
     "text": [
      "finally block\n"
     ]
    }
   ],
   "source": [
    "def func():\n",
    "    \n",
    "    try:\n",
    "        file_handler=open(\"ab1.txt\",\"w\")\n",
    "        file_handler.write(\"Hello Python\")\n",
    "\n",
    "    except:\n",
    "        print(\"Exception raised\")\n",
    "    finally:\n",
    "        print(\"finally block\")\n",
    "        file_handler.close()\n",
    "func()"
   ]
  },
  {
   "cell_type": "code",
   "execution_count": 40,
   "metadata": {},
   "outputs": [],
   "source": [
    "def func():\n",
    "    try:\n",
    "        file_handler=open(\"ab1.txt\",\"w\")\n",
    "        file_handler.write(\"Hello Python1\")\n",
    "        file_handler.close()\n",
    "    except:\n",
    "        print(\"Exception raised\")\n",
    "func()"
   ]
  },
  {
   "cell_type": "code",
   "execution_count": 49,
   "metadata": {},
   "outputs": [
    {
     "name": "stdout",
     "output_type": "stream",
     "text": [
      "handling\n"
     ]
    },
    {
     "ename": "NameError",
     "evalue": "Exception Raised from func 10",
     "output_type": "error",
     "traceback": [
      "\u001b[1;31m---------------------------------------------------------------------------\u001b[0m",
      "\u001b[1;31mNameError\u001b[0m                                 Traceback (most recent call last)",
      "Cell \u001b[1;32mIn[49], line 10\u001b[0m\n\u001b[0;32m      8\u001b[0m         \u001b[39mprint\u001b[39m(\u001b[39m\"\u001b[39m\u001b[39mhandling\u001b[39m\u001b[39m\"\u001b[39m)\n\u001b[0;32m      9\u001b[0m         \u001b[39mraise\u001b[39;00m\n\u001b[1;32m---> 10\u001b[0m func()\n",
      "Cell \u001b[1;32mIn[49], line 6\u001b[0m, in \u001b[0;36mfunc\u001b[1;34m()\u001b[0m\n\u001b[0;32m      4\u001b[0m     \u001b[39mif\u001b[39;00m(a\u001b[39m>\u001b[39m\u001b[39m2\u001b[39m):\n\u001b[0;32m      5\u001b[0m         str1\u001b[39m=\u001b[39m\u001b[39m\"\u001b[39m\u001b[39mException Raised from func \u001b[39m\u001b[39m\"\u001b[39m\u001b[39m+\u001b[39m\u001b[39mstr\u001b[39m(a)\n\u001b[1;32m----> 6\u001b[0m         \u001b[39mraise\u001b[39;00m \u001b[39mNameError\u001b[39;00m(str1)\n\u001b[0;32m      7\u001b[0m \u001b[39mexcept\u001b[39;00m \u001b[39mNameError\u001b[39;00m:\n\u001b[0;32m      8\u001b[0m     \u001b[39mprint\u001b[39m(\u001b[39m\"\u001b[39m\u001b[39mhandling\u001b[39m\u001b[39m\"\u001b[39m)\n",
      "\u001b[1;31mNameError\u001b[0m: Exception Raised from func 10"
     ]
    }
   ],
   "source": [
    "def func():\n",
    "    try:\n",
    "        a=10\n",
    "        if(a>2):\n",
    "            str1=\"Exception Raised from func \"+str(a)\n",
    "            raise NameError(str1)\n",
    "    except NameError:\n",
    "        print(\"handling\")\n",
    "func()"
   ]
  },
  {
   "attachments": {},
   "cell_type": "markdown",
   "metadata": {},
   "source": [
    "OOP Concepts"
   ]
  },
  {
   "cell_type": "code",
   "execution_count": 1,
   "metadata": {},
   "outputs": [
    {
     "name": "stdout",
     "output_type": "stream",
     "text": [
      "Bulb Is OFF\n",
      "Bulb Is ON\n"
     ]
    }
   ],
   "source": [
    "class Bulb:\n",
    "    #Attributes\n",
    "    ON = False\n",
    "    OFF =False\n",
    "    \n",
    "    def __init__(self,Status1,Status2):\n",
    "        self.ON=Status1\n",
    "        self.OFF=Status2\n",
    "    \n",
    "    #methods\n",
    "    def Status(self):\n",
    "        print(\"ON:\",self.ON)\n",
    "        print(\"OFF:\",self.OFF)\n",
    "    \n",
    "    def Switch(self):\n",
    "        if self.ON == True:\n",
    "            print(\"Bulb Is ON\")\n",
    "        else:\n",
    "            print(\"Bulb Is OFF\")\n",
    "\n",
    "Obj = Bulb(False, False)\n",
    "# Obj.Status()\n",
    "Obj.Switch()\n",
    "\n",
    "Obj1 = Bulb(True, True)\n",
    "# Obj1.Status()\n",
    "Obj1.Switch()"
   ]
  },
  {
   "cell_type": "code",
   "execution_count": 14,
   "metadata": {},
   "outputs": [
    {
     "name": "stdout",
     "output_type": "stream",
     "text": [
      "Car Details: 4 5 Maruti 800 Petrol 800\n"
     ]
    }
   ],
   "source": [
    "class Car:\n",
    "    wheels=0\n",
    "    SeatingCapacity=\"\"\n",
    "    Nameofthecar =\"\"\n",
    "    CarModel=\"\"\n",
    "    Fueltype=\"\"\n",
    "    CC=\"\"\n",
    "    \n",
    "    def __init__(self,wheels,SeatingCapacity,Nameofthecar,CarModel,Fueltype,CC):\n",
    "        self.wheels=wheels\n",
    "        self.SeatingCapacity=SeatingCapacity\n",
    "        self.Nameofthecar=Nameofthecar\n",
    "        self.CarModel=CarModel\n",
    "        self.Fueltype=Fueltype\n",
    "        self.CC=CC\n",
    "    def cardetails(self):\n",
    "        print(\"Car Details:\",self.wheels,self.SeatingCapacity,self.Nameofthecar, self.CarModel,self.Fueltype,self.CC)\n",
    "\n",
    "obj = Car(4,5,\"Maruti\",\"800\",\"Petrol\",\"800\")\n",
    "obj.cardetails()\n",
    "    "
   ]
  },
  {
   "cell_type": "code",
   "execution_count": 2,
   "metadata": {},
   "outputs": [
    {
     "name": "stdout",
     "output_type": "stream",
     "text": [
      "Ready to drive, fuel available.\n"
     ]
    }
   ],
   "source": [
    "class Truck:\n",
    "    #properties / Attributes\n",
    "    seat = 2\n",
    "    tyre =6\n",
    "    fuel=\"D\"\n",
    "    carrier=\"Goods\"\n",
    "    fuelstate=True\n",
    "    \n",
    "    #methods\n",
    "    def Drive(self):\n",
    "        if self.fuelstate == True:\n",
    "            print(\"Ready to drive, fuel available.\")\n",
    "        else:\n",
    "            print(\"No Fuel Available.\")\n",
    "\n",
    "    def __init__(self,seat,tyre):\n",
    "        self.seat=seat\n",
    "        self.tyre=tyre\n",
    "        self.fuel=\"petrol\"\n",
    "        self.carrier=\"Frozen Goods\"\n",
    "        self.fuelstate=True\n",
    "obj = Truck(4,8)\n",
    "obj.Drive()\n",
    "\n",
    "    "
   ]
  },
  {
   "attachments": {},
   "cell_type": "markdown",
   "metadata": {},
   "source": [
    "Create a student class and initialize it with student details like name, roll number,marks1,marks2,marks3 and show all details of student with one method and another for showing sum of all three subject marks."
   ]
  },
  {
   "cell_type": "code",
   "execution_count": 3,
   "metadata": {},
   "outputs": [
    {
     "name": "stdout",
     "output_type": "stream",
     "text": [
      "Student1 25 85 95 98\n",
      "Total Marks  278\n"
     ]
    }
   ],
   "source": [
    "class stud:\n",
    "    name =\"\"\n",
    "    rollno=''\n",
    "    s1=0\n",
    "    s2=0\n",
    "    s3=0\n",
    "    \n",
    "\n",
    "    def stud_info(self):\n",
    "        print(self.name, self.rollno, self.s1, self.s2, self.s3)\n",
    "    \n",
    "    def __init__(ajay, name, rollno, s1, s2, s3):\n",
    "        ajay.name=name\n",
    "        ajay.rollno=rollno\n",
    "        ajay.s1=s1\n",
    "        ajay.s2=s2\n",
    "        ajay.s3=s3\n",
    "\n",
    "    def add(ajay):\n",
    "        sum=ajay.s1+ajay.s2+ajay.s3\n",
    "        print(\"Total Marks \",sum)\n",
    "\n",
    "student1_object= stud(\"Student1\",25,85,95,98)\n",
    "student1_object.stud_info()\n",
    "student1_object.add()\n",
    "        \n",
    "        "
   ]
  },
  {
   "attachments": {},
   "cell_type": "markdown",
   "metadata": {},
   "source": [
    "Polymorphism"
   ]
  },
  {
   "cell_type": "code",
   "execution_count": 5,
   "metadata": {},
   "outputs": [
    {
     "name": "stdout",
     "output_type": "stream",
     "text": [
      "Ten  Twenty\n"
     ]
    }
   ],
   "source": [
    "def add(a,b):\n",
    "    c=a+b\n",
    "    print(c)\n",
    "    \n",
    "add(\"Ten \",\" Twenty\")"
   ]
  },
  {
   "cell_type": "code",
   "execution_count": 12,
   "metadata": {},
   "outputs": [
    {
     "name": "stdout",
     "output_type": "stream",
     "text": [
      "There are many types of birds.\n",
      "There are many types of birds.\n",
      "There are many types of birds.\n",
      "Most of the birds can fly but some cannot.\n",
      "Most of the birds can fly but some cannot.\n",
      "Ostrich cannot fly.\n"
     ]
    }
   ],
   "source": [
    "class Bird():\n",
    "    def Intro (self):\n",
    "        print(\"There are many types of birds.\")\n",
    "    def flight(self):\n",
    "        print(\"Most of the birds can fly but some cannot.\")\n",
    "\n",
    "class Sparrow (Bird):\n",
    "    def display(self):\n",
    "        print(\"You are in display\")\n",
    "        \n",
    "\n",
    "class Ostrich(Bird):\n",
    "    def flight(self):\n",
    "        print(\"Ostrich cannot fly.\")\n",
    "\n",
    "obj_Bird = Bird()\n",
    "obj_Sparrow =Sparrow()\n",
    "obj_Ostrich=Ostrich()\n",
    "\n",
    "obj_Bird.Intro()\n",
    "obj_Sparrow.Intro()\n",
    "obj_Ostrich.Intro()\n",
    "\n",
    "obj_Bird.flight()\n",
    "obj_Sparrow.flight()\n",
    "obj_Ostrich.flight()\n"
   ]
  },
  {
   "cell_type": "code",
   "execution_count": 14,
   "metadata": {},
   "outputs": [
    {
     "name": "stdout",
     "output_type": "stream",
     "text": [
      "Car info display\n",
      "Truck info display\n"
     ]
    }
   ],
   "source": [
    "class car():\n",
    "    def display(self):\n",
    "        print(\"Car info display\")\n",
    "\n",
    "class truck():\n",
    "    def display(self): \n",
    "        print(\"Truck info display\")\n",
    "        \n",
    "obj1 = car()\n",
    "obj2 = truck()\n",
    "\n",
    "def func(obj):\n",
    "    obj.display()\n",
    "\n",
    "func(obj1)\n",
    "func(obj2)"
   ]
  },
  {
   "cell_type": "code",
   "execution_count": 18,
   "metadata": {},
   "outputs": [
    {
     "name": "stdout",
     "output_type": "stream",
     "text": [
      "  10 0 0\n"
     ]
    }
   ],
   "source": [
    "name =\"\"\n",
    "rollno=''\n",
    "s1=10\n",
    "s2=0\n",
    "s3=0\n",
    "    \n",
    "\n",
    "def stud_info():\n",
    "    print(name, rollno, s1, s2, s3)\n",
    "stud_info()"
   ]
  },
  {
   "attachments": {},
   "cell_type": "markdown",
   "metadata": {},
   "source": [
    "Encapsulation"
   ]
  },
  {
   "cell_type": "code",
   "execution_count": 13,
   "metadata": {},
   "outputs": [
    {
     "ename": "AttributeError",
     "evalue": "'Child' object has no attribute '_Child__c'",
     "output_type": "error",
     "traceback": [
      "\u001b[1;31m---------------------------------------------------------------------------\u001b[0m",
      "\u001b[1;31mAttributeError\u001b[0m                            Traceback (most recent call last)",
      "Cell \u001b[1;32mIn[13], line 12\u001b[0m\n\u001b[0;32m      9\u001b[0m         Parent\u001b[39m.\u001b[39m\u001b[39m__init__\u001b[39m(\u001b[39mself\u001b[39m)\n\u001b[0;32m     10\u001b[0m         \u001b[39mprint\u001b[39m(\u001b[39mself\u001b[39m\u001b[39m.\u001b[39m__c)\n\u001b[1;32m---> 12\u001b[0m obj1 \u001b[39m=\u001b[39m Child()\n\u001b[0;32m     13\u001b[0m \u001b[39mprint\u001b[39m(obj1\u001b[39m.\u001b[39m__c)\n",
      "Cell \u001b[1;32mIn[13], line 10\u001b[0m, in \u001b[0;36mChild.__init__\u001b[1;34m(self)\u001b[0m\n\u001b[0;32m      8\u001b[0m \u001b[39mdef\u001b[39;00m \u001b[39m__init__\u001b[39m(\u001b[39mself\u001b[39m):\n\u001b[0;32m      9\u001b[0m     Parent\u001b[39m.\u001b[39m\u001b[39m__init__\u001b[39m(\u001b[39mself\u001b[39m)\n\u001b[1;32m---> 10\u001b[0m     \u001b[39mprint\u001b[39m(\u001b[39mself\u001b[39;49m\u001b[39m.\u001b[39;49m__c)\n",
      "\u001b[1;31mAttributeError\u001b[0m: 'Child' object has no attribute '_Child__c'"
     ]
    }
   ],
   "source": [
    "class Parent():\n",
    "    def __init__(self):\n",
    "        self.a=\"Python\"\n",
    "        self.__c=\" Programming\"\n",
    "\n",
    "class Child(Parent):\n",
    "\n",
    "    def __init__(self):\n",
    "        Parent.__init__(self)\n",
    "        print(self.__c)\n",
    "\n",
    "obj1 = Child()\n",
    "print(obj1.__c)"
   ]
  },
  {
   "attachments": {},
   "cell_type": "markdown",
   "metadata": {},
   "source": [
    "Inheritance Demo\n"
   ]
  },
  {
   "cell_type": "code",
   "execution_count": 18,
   "metadata": {},
   "outputs": [
    {
     "name": "stdout",
     "output_type": "stream",
     "text": [
      "Sum: 30\n"
     ]
    }
   ],
   "source": [
    "class Base():\n",
    "    a=10\n",
    "    \n",
    "class Derived(Base):\n",
    "    b=20\n",
    "    \n",
    "    #  virtually available to derived class a=10\n",
    "    def add (self):\n",
    "        pass\n",
    "\n",
    "obj1= Derived()\n",
    "obj1.add()"
   ]
  },
  {
   "attachments": {},
   "cell_type": "markdown",
   "metadata": {},
   "source": [
    "pass"
   ]
  },
  {
   "cell_type": "code",
   "execution_count": 23,
   "metadata": {},
   "outputs": [],
   "source": [
    "class Pass_Class():\n",
    "    def Pass_func(self,):\n",
    "\n",
    "        if 20>10:\n",
    "            pass\n",
    "        \n",
    "obj1= Pass_Class()\n",
    "\n",
    "obj1.Pass_func()\n"
   ]
  },
  {
   "cell_type": "code",
   "execution_count": 26,
   "metadata": {},
   "outputs": [
    {
     "name": "stdout",
     "output_type": "stream",
     "text": [
      "i am triangle have 3 sides.\n"
     ]
    }
   ],
   "source": [
    "from abc import ABC,abstractmethod\n",
    "class polygon(ABC):\n",
    "    @abstractmethod\n",
    "    def sides(self):\n",
    "        pass\n",
    "class triangle(polygon):\n",
    "    \n",
    "    def sides(self):\n",
    "        print(\"i am triangle have 3 sides.\")\n",
    "\n",
    "obj1= triangle()\n",
    "obj1.sides()"
   ]
  },
  {
   "cell_type": "code",
   "execution_count": 32,
   "metadata": {},
   "outputs": [
    {
     "name": "stdout",
     "output_type": "stream",
     "text": [
      "0\n",
      "1\n",
      "2\n"
     ]
    }
   ],
   "source": [
    "# l1=[1,7,3,4,8,4,7]\n",
    "l1= [1,2,4,2,7,4]\n",
    "\n",
    "l2=[]\n",
    "N=len(l1)\n",
    "k=2\n",
    "\n",
    "for i in l1:\n",
    "    count=l1.count(i)\n",
    "    if count==k:\n",
    "        l2.append(i)\n",
    "\n",
    "for j in range(len(l2)):\n",
    "    if j< len(l2)-1:\n",
    "        \n",
    "        if l2[j] == l2[j+1]:\n",
    "            print(\"Answer:\",l2[j])\n",
    "            break\n",
    "\n",
    "\n"
   ]
  }
 ],
 "metadata": {
  "kernelspec": {
   "display_name": "Python 3",
   "language": "python",
   "name": "python3"
  },
  "language_info": {
   "codemirror_mode": {
    "name": "ipython",
    "version": 3
   },
   "file_extension": ".py",
   "mimetype": "text/x-python",
   "name": "python",
   "nbconvert_exporter": "python",
   "pygments_lexer": "ipython3",
   "version": "3.11.2"
  },
  "orig_nbformat": 4
 },
 "nbformat": 4,
 "nbformat_minor": 2
}
